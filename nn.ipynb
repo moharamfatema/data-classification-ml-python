{
 "cells": [
  {
   "cell_type": "code",
   "execution_count": 25,
   "metadata": {},
   "outputs": [],
   "source": [
    "import torch\n",
    "import torchvision\n",
    "from torchvision import transforms, datasets\n",
    "from torch.utils.data import DataLoader, TensorDataset\n",
    "import torch.nn as nn\n",
    "import torch.nn.functional as fun\n",
    "import pandas as pd\n",
    "from torch.optim import AdamW, Adam\n",
    "from sklearn.model_selection import StratifiedKFold\n",
    "from data import get_data\n",
    "(x_train, y_train, x_test, y_test) = get_data()"
   ]
  },
  {
   "cell_type": "code",
   "execution_count": 26,
   "metadata": {},
   "outputs": [],
   "source": [
    "def df_to_tensor(df: pd.DataFrame):\n",
    "    return torch.from_numpy(df.values).float()\n",
    "\n",
    "# convert classes to numerical data\n",
    "def to_numerical(df: pd.Series, positive_class = 'g'):\n",
    "    new = df.copy()\n",
    "    for i, v in enumerate(new.values):\n",
    "        if v == positive_class:\n",
    "            new.iloc[i] = 1.\n",
    "        else:\n",
    "            new.iloc[i] = 0.\n",
    "    return new.astype(float)\n",
    "\n",
    "x_train = df_to_tensor(x_train)\n",
    "x_test = df_to_tensor(x_test)\n",
    "y_train = df_to_tensor(to_numerical(y_train))\n",
    "y_test = df_to_tensor(to_numerical(y_test))"
   ]
  },
  {
   "cell_type": "code",
   "execution_count": 27,
   "metadata": {},
   "outputs": [],
   "source": [
    "# loaders\n",
    "BATCH_SIZE = 64\n",
    "def loaders(x_train,y_train,x_test,y_test,batch_size=BATCH_SIZE):\n",
    "    trainset = DataLoader(TensorDataset(x_train,y_train), batch_size=BATCH_SIZE, shuffle=True)\n",
    "    testset = DataLoader(TensorDataset(x_test, y_test), batch_size=BATCH_SIZE, shuffle=True)\n",
    "    return trainset, testset"
   ]
  },
  {
   "cell_type": "code",
   "execution_count": 67,
   "metadata": {},
   "outputs": [],
   "source": [
    "EPOCHS = 5\n",
    "\n",
    "def train(loader:DataLoader, model:nn.Module, optimizer, epochs = EPOCHS):\n",
    "    model.train()\n",
    "    for epoch in range(epochs):\n",
    "        for data in loader:\n",
    "            X, y = data\n",
    "            optimizer.zero_grad()\n",
    "            output = model(X.view(-1,10))\n",
    "            loss = fun.binary_cross_entropy(output.view(y.shape), y)\n",
    "            loss.backward()\n",
    "            optimizer.step()\n",
    "        print(f\"epoch {epoch+1} / {epochs}\\t loss {loss}\")"
   ]
  },
  {
   "cell_type": "code",
   "execution_count": 29,
   "metadata": {},
   "outputs": [],
   "source": [
    "def get_accuracy_loss(test_loader:DataLoader, model:nn.Module):\n",
    "    model.eval()\n",
    "    correct = 0\n",
    "    total = 0\n",
    "    loss = 0\n",
    "    with torch.no_grad():\n",
    "        for data in test_loader:\n",
    "            X, y = data\n",
    "            output = model(X)\n",
    "            loss += fun.binary_cross_entropy(output.view(y.shape),y,reduction='sum').item()\n",
    "            for idx, i in enumerate(output):\n",
    "                i = 1 if i >= 0.5 else 0\n",
    "                if  i == y[idx]:\n",
    "                    correct += 1\n",
    "                total += 1\n",
    "    loss /= len(test_loader.dataset)\n",
    "    return round(correct / total,3), round(loss,4)"
   ]
  },
  {
   "cell_type": "code",
   "execution_count": 30,
   "metadata": {},
   "outputs": [],
   "source": [
    "# model\n",
    "class Model(nn.Module):\n",
    "    def __init__(self, l1_nodes, l2_nodes, input_size = 10):\n",
    "        super().__init__()\n",
    "        self.l1 = nn.Linear(input_size, l1_nodes)\n",
    "        self.l2 = nn.Linear(l1_nodes, l2_nodes)\n",
    "        self.l3 = nn.Linear(l2_nodes, 1)\n",
    "\n",
    "    def forward(self, x):\n",
    "        x = fun.relu(self.l1(x))\n",
    "        x = fun.relu(self.l2(x))\n",
    "\n",
    "        x = torch.sigmoid(self.l3(x)) # TODO: sigmoid or no?\n",
    "        return x\n",
    "\n",
    "\n",
    "def reset_weights(m):\n",
    "    if isinstance(m, nn.Conv2d) or isinstance(m, nn.Linear):\n",
    "        m.reset_parameters()\n"
   ]
  },
  {
   "cell_type": "code",
   "execution_count": 55,
   "metadata": {},
   "outputs": [],
   "source": [
    "# kfolds\n",
    "def k_folds_validation(features_train,labels_train,l1_nodes, l2_nodes, lr = 5e-4, epochs = EPOCHS, batch_size = BATCH_SIZE):\n",
    "    skf = StratifiedKFold(n_splits=10, shuffle=True)\n",
    "    model = Model(l1_nodes,l2_nodes)\n",
    "    optimizer = Adam(model.parameters(),lr = lr)\n",
    "    avg_accuracy = 0\n",
    "    for fold, (train_idx, val_idx) in enumerate(skf.split(features_train, labels_train)):\n",
    "        train_fold_loader, validate_fold_loader = loaders(\n",
    "            features_train[train_idx],\n",
    "            labels_train[train_idx],\n",
    "            features_train[val_idx],\n",
    "            labels_train[val_idx],\n",
    "            batch_size=batch_size\n",
    "            )\n",
    "        model.apply(reset_weights)\n",
    "        #print(f\"--------------------------------- Fold {fold + 1} / {skf.get_n_splits()} ---------------------------------\")\n",
    "        train(train_fold_loader, model,optimizer, epochs = epochs)\n",
    "        accuracy, loss = get_accuracy_loss(validate_fold_loader, model)\n",
    "        avg_accuracy = (avg_accuracy + accuracy) / 2\n",
    "        #print(f\"\\n Validation:\")\n",
    "        #print(f\"Accuracy = {accuracy}, Loss = {loss}\")\n",
    "    return avg_accuracy"
   ]
  },
  {
   "cell_type": "code",
   "execution_count": 38,
   "metadata": {},
   "outputs": [
    {
     "name": "stdout",
     "output_type": "stream",
     "text": [
      "--------------------------------- Fold 1 / 10 ---------------------------------\n",
      "\n",
      " Validation:\n",
      "Accuracy = 0.72, Loss = 0.5316\n",
      "--------------------------------- Fold 2 / 10 ---------------------------------\n",
      "\n",
      " Validation:\n",
      "Accuracy = 0.759, Loss = 0.487\n",
      "--------------------------------- Fold 3 / 10 ---------------------------------\n",
      "\n",
      " Validation:\n",
      "Accuracy = 0.745, Loss = 0.49\n",
      "--------------------------------- Fold 4 / 10 ---------------------------------\n",
      "\n",
      " Validation:\n",
      "Accuracy = 0.783, Loss = 0.4661\n",
      "--------------------------------- Fold 5 / 10 ---------------------------------\n",
      "\n",
      " Validation:\n",
      "Accuracy = 0.764, Loss = 0.4836\n",
      "--------------------------------- Fold 6 / 10 ---------------------------------\n",
      "\n",
      " Validation:\n",
      "Accuracy = 0.77, Loss = 0.4721\n",
      "--------------------------------- Fold 7 / 10 ---------------------------------\n",
      "\n",
      " Validation:\n",
      "Accuracy = 0.752, Loss = 0.4834\n",
      "--------------------------------- Fold 8 / 10 ---------------------------------\n",
      "\n",
      " Validation:\n",
      "Accuracy = 0.752, Loss = 0.503\n",
      "--------------------------------- Fold 9 / 10 ---------------------------------\n",
      "\n",
      " Validation:\n",
      "Accuracy = 0.747, Loss = 0.4908\n",
      "--------------------------------- Fold 10 / 10 ---------------------------------\n",
      "\n",
      " Validation:\n",
      "Accuracy = 0.746, Loss = 0.5024\n",
      "Average Accuracy for (20, 20) nn = 0.748\n"
     ]
    }
   ],
   "source": [
    "avg_accuracy = k_folds_validation(x_train, y_train, 20,20)\n",
    "print(f\"Average Accuracy for {20,20} nn = {round(avg_accuracy,4)}\")"
   ]
  },
  {
   "cell_type": "code",
   "execution_count": 39,
   "metadata": {},
   "outputs": [],
   "source": [
    "from matplotlib import pyplot as plt"
   ]
  },
  {
   "cell_type": "code",
   "execution_count": 40,
   "metadata": {},
   "outputs": [
    {
     "name": "stdout",
     "output_type": "stream",
     "text": [
      "--------------------------------- Fold 1 / 10 ---------------------------------\n",
      "\n",
      " Validation:\n",
      "Accuracy = 0.716, Loss = 0.5277\n",
      "--------------------------------- Fold 2 / 10 ---------------------------------\n",
      "\n",
      " Validation:\n",
      "Accuracy = 0.768, Loss = 0.4982\n",
      "--------------------------------- Fold 3 / 10 ---------------------------------\n",
      "\n",
      " Validation:\n",
      "Accuracy = 0.752, Loss = 0.4927\n",
      "--------------------------------- Fold 4 / 10 ---------------------------------\n",
      "\n",
      " Validation:\n",
      "Accuracy = 0.745, Loss = 0.5109\n",
      "--------------------------------- Fold 5 / 10 ---------------------------------\n",
      "\n",
      " Validation:\n",
      "Accuracy = 0.756, Loss = 0.5152\n",
      "--------------------------------- Fold 6 / 10 ---------------------------------\n",
      "\n",
      " Validation:\n",
      "Accuracy = 0.745, Loss = 0.5048\n",
      "--------------------------------- Fold 7 / 10 ---------------------------------\n",
      "\n",
      " Validation:\n",
      "Accuracy = 0.73, Loss = 0.5379\n",
      "--------------------------------- Fold 8 / 10 ---------------------------------\n",
      "\n",
      " Validation:\n",
      "Accuracy = 0.694, Loss = 0.5899\n",
      "--------------------------------- Fold 9 / 10 ---------------------------------\n",
      "\n",
      " Validation:\n",
      "Accuracy = 0.748, Loss = 0.5328\n",
      "--------------------------------- Fold 10 / 10 ---------------------------------\n",
      "\n",
      " Validation:\n",
      "Accuracy = 0.715, Loss = 0.5711\n",
      "--------------------------------- Fold 1 / 10 ---------------------------------\n",
      "\n",
      " Validation:\n",
      "Accuracy = 0.746, Loss = 0.4886\n",
      "--------------------------------- Fold 2 / 10 ---------------------------------\n",
      "\n",
      " Validation:\n",
      "Accuracy = 0.744, Loss = 0.5118\n",
      "--------------------------------- Fold 3 / 10 ---------------------------------\n",
      "\n",
      " Validation:\n",
      "Accuracy = 0.769, Loss = 0.4821\n",
      "--------------------------------- Fold 4 / 10 ---------------------------------\n",
      "\n",
      " Validation:\n",
      "Accuracy = 0.752, Loss = 0.4853\n",
      "--------------------------------- Fold 5 / 10 ---------------------------------\n",
      "\n",
      " Validation:\n",
      "Accuracy = 0.774, Loss = 0.4637\n",
      "--------------------------------- Fold 6 / 10 ---------------------------------\n",
      "\n",
      " Validation:\n",
      "Accuracy = 0.771, Loss = 0.4739\n",
      "--------------------------------- Fold 7 / 10 ---------------------------------\n",
      "\n",
      " Validation:\n",
      "Accuracy = 0.74, Loss = 0.5112\n",
      "--------------------------------- Fold 8 / 10 ---------------------------------\n",
      "\n",
      " Validation:\n",
      "Accuracy = 0.778, Loss = 0.4718\n",
      "--------------------------------- Fold 9 / 10 ---------------------------------\n",
      "\n",
      " Validation:\n",
      "Accuracy = 0.732, Loss = 0.4971\n",
      "--------------------------------- Fold 10 / 10 ---------------------------------\n",
      "\n",
      " Validation:\n",
      "Accuracy = 0.762, Loss = 0.4905\n",
      "--------------------------------- Fold 1 / 10 ---------------------------------\n",
      "\n",
      " Validation:\n",
      "Accuracy = 0.761, Loss = 0.4927\n",
      "--------------------------------- Fold 2 / 10 ---------------------------------\n",
      "\n",
      " Validation:\n",
      "Accuracy = 0.75, Loss = 0.4792\n",
      "--------------------------------- Fold 3 / 10 ---------------------------------\n",
      "\n",
      " Validation:\n",
      "Accuracy = 0.753, Loss = 0.4715\n",
      "--------------------------------- Fold 4 / 10 ---------------------------------\n",
      "\n",
      " Validation:\n",
      "Accuracy = 0.731, Loss = 0.5119\n",
      "--------------------------------- Fold 5 / 10 ---------------------------------\n",
      "\n",
      " Validation:\n",
      "Accuracy = 0.751, Loss = 0.4955\n",
      "--------------------------------- Fold 6 / 10 ---------------------------------\n",
      "\n",
      " Validation:\n",
      "Accuracy = 0.707, Loss = 0.5332\n",
      "--------------------------------- Fold 7 / 10 ---------------------------------\n",
      "\n",
      " Validation:\n",
      "Accuracy = 0.747, Loss = 0.4893\n",
      "--------------------------------- Fold 8 / 10 ---------------------------------\n",
      "\n",
      " Validation:\n",
      "Accuracy = 0.765, Loss = 0.4973\n",
      "--------------------------------- Fold 9 / 10 ---------------------------------\n",
      "\n",
      " Validation:\n",
      "Accuracy = 0.767, Loss = 0.4937\n",
      "--------------------------------- Fold 10 / 10 ---------------------------------\n",
      "\n",
      " Validation:\n",
      "Accuracy = 0.779, Loss = 0.4713\n",
      "--------------------------------- Fold 1 / 10 ---------------------------------\n",
      "\n",
      " Validation:\n",
      "Accuracy = 0.757, Loss = 0.4738\n",
      "--------------------------------- Fold 2 / 10 ---------------------------------\n",
      "\n",
      " Validation:\n",
      "Accuracy = 0.755, Loss = 0.491\n",
      "--------------------------------- Fold 3 / 10 ---------------------------------\n",
      "\n",
      " Validation:\n",
      "Accuracy = 0.769, Loss = 0.4916\n",
      "--------------------------------- Fold 4 / 10 ---------------------------------\n",
      "\n",
      " Validation:\n",
      "Accuracy = 0.791, Loss = 0.4426\n",
      "--------------------------------- Fold 5 / 10 ---------------------------------\n",
      "\n",
      " Validation:\n",
      "Accuracy = 0.731, Loss = 0.5136\n",
      "--------------------------------- Fold 6 / 10 ---------------------------------\n",
      "\n",
      " Validation:\n",
      "Accuracy = 0.724, Loss = 0.5133\n",
      "--------------------------------- Fold 7 / 10 ---------------------------------\n",
      "\n",
      " Validation:\n",
      "Accuracy = 0.769, Loss = 0.4758\n",
      "--------------------------------- Fold 8 / 10 ---------------------------------\n",
      "\n",
      " Validation:\n",
      "Accuracy = 0.749, Loss = 0.4933\n",
      "--------------------------------- Fold 9 / 10 ---------------------------------\n",
      "\n",
      " Validation:\n",
      "Accuracy = 0.757, Loss = 0.4603\n",
      "--------------------------------- Fold 10 / 10 ---------------------------------\n",
      "\n",
      " Validation:\n",
      "Accuracy = 0.764, Loss = 0.4813\n",
      "--------------------------------- Fold 1 / 10 ---------------------------------\n",
      "\n",
      " Validation:\n",
      "Accuracy = 0.728, Loss = 0.4902\n",
      "--------------------------------- Fold 2 / 10 ---------------------------------\n",
      "\n",
      " Validation:\n",
      "Accuracy = 0.736, Loss = 0.4941\n",
      "--------------------------------- Fold 3 / 10 ---------------------------------\n",
      "\n",
      " Validation:\n",
      "Accuracy = 0.766, Loss = 0.4536\n",
      "--------------------------------- Fold 4 / 10 ---------------------------------\n",
      "\n",
      " Validation:\n",
      "Accuracy = 0.76, Loss = 0.4795\n",
      "--------------------------------- Fold 5 / 10 ---------------------------------\n",
      "\n",
      " Validation:\n",
      "Accuracy = 0.757, Loss = 0.4778\n",
      "--------------------------------- Fold 6 / 10 ---------------------------------\n",
      "\n",
      " Validation:\n",
      "Accuracy = 0.778, Loss = 0.4764\n",
      "--------------------------------- Fold 7 / 10 ---------------------------------\n",
      "\n",
      " Validation:\n",
      "Accuracy = 0.74, Loss = 0.5002\n",
      "--------------------------------- Fold 8 / 10 ---------------------------------\n",
      "\n",
      " Validation:\n",
      "Accuracy = 0.747, Loss = 0.5114\n",
      "--------------------------------- Fold 9 / 10 ---------------------------------\n",
      "\n",
      " Validation:\n",
      "Accuracy = 0.748, Loss = 0.4803\n",
      "--------------------------------- Fold 10 / 10 ---------------------------------\n",
      "\n",
      " Validation:\n",
      "Accuracy = 0.776, Loss = 0.485\n",
      "--------------------------------- Fold 1 / 10 ---------------------------------\n",
      "\n",
      " Validation:\n",
      "Accuracy = 0.756, Loss = 0.4629\n",
      "--------------------------------- Fold 2 / 10 ---------------------------------\n",
      "\n",
      " Validation:\n",
      "Accuracy = 0.768, Loss = 0.4694\n",
      "--------------------------------- Fold 3 / 10 ---------------------------------\n",
      "\n",
      " Validation:\n",
      "Accuracy = 0.764, Loss = 0.4729\n",
      "--------------------------------- Fold 4 / 10 ---------------------------------\n",
      "\n",
      " Validation:\n",
      "Accuracy = 0.783, Loss = 0.4573\n",
      "--------------------------------- Fold 5 / 10 ---------------------------------\n",
      "\n",
      " Validation:\n",
      "Accuracy = 0.763, Loss = 0.489\n",
      "--------------------------------- Fold 6 / 10 ---------------------------------\n",
      "\n",
      " Validation:\n",
      "Accuracy = 0.781, Loss = 0.4468\n",
      "--------------------------------- Fold 7 / 10 ---------------------------------\n",
      "\n",
      " Validation:\n",
      "Accuracy = 0.734, Loss = 0.5328\n",
      "--------------------------------- Fold 8 / 10 ---------------------------------\n",
      "\n",
      " Validation:\n",
      "Accuracy = 0.75, Loss = 0.4846\n",
      "--------------------------------- Fold 9 / 10 ---------------------------------\n",
      "\n",
      " Validation:\n",
      "Accuracy = 0.75, Loss = 0.4797\n",
      "--------------------------------- Fold 10 / 10 ---------------------------------\n",
      "\n",
      " Validation:\n",
      "Accuracy = 0.761, Loss = 0.4674\n",
      "--------------------------------- Fold 1 / 10 ---------------------------------\n",
      "\n",
      " Validation:\n",
      "Accuracy = 0.78, Loss = 0.4517\n",
      "--------------------------------- Fold 2 / 10 ---------------------------------\n",
      "\n",
      " Validation:\n",
      "Accuracy = 0.774, Loss = 0.4575\n",
      "--------------------------------- Fold 3 / 10 ---------------------------------\n",
      "\n",
      " Validation:\n",
      "Accuracy = 0.751, Loss = 0.4757\n",
      "--------------------------------- Fold 4 / 10 ---------------------------------\n",
      "\n",
      " Validation:\n",
      "Accuracy = 0.778, Loss = 0.4597\n",
      "--------------------------------- Fold 5 / 10 ---------------------------------\n",
      "\n",
      " Validation:\n",
      "Accuracy = 0.75, Loss = 0.4755\n",
      "--------------------------------- Fold 6 / 10 ---------------------------------\n",
      "\n",
      " Validation:\n",
      "Accuracy = 0.756, Loss = 0.4864\n",
      "--------------------------------- Fold 7 / 10 ---------------------------------\n",
      "\n",
      " Validation:\n",
      "Accuracy = 0.775, Loss = 0.4603\n",
      "--------------------------------- Fold 8 / 10 ---------------------------------\n",
      "\n",
      " Validation:\n",
      "Accuracy = 0.757, Loss = 0.4664\n",
      "--------------------------------- Fold 9 / 10 ---------------------------------\n",
      "\n",
      " Validation:\n",
      "Accuracy = 0.745, Loss = 0.478\n",
      "--------------------------------- Fold 10 / 10 ---------------------------------\n",
      "\n",
      " Validation:\n",
      "Accuracy = 0.759, Loss = 0.4872\n",
      "--------------------------------- Fold 1 / 10 ---------------------------------\n",
      "\n",
      " Validation:\n",
      "Accuracy = 0.779, Loss = 0.4455\n",
      "--------------------------------- Fold 2 / 10 ---------------------------------\n",
      "\n",
      " Validation:\n",
      "Accuracy = 0.761, Loss = 0.4727\n",
      "--------------------------------- Fold 3 / 10 ---------------------------------\n",
      "\n",
      " Validation:\n",
      "Accuracy = 0.73, Loss = 0.4837\n",
      "--------------------------------- Fold 4 / 10 ---------------------------------\n",
      "\n",
      " Validation:\n",
      "Accuracy = 0.791, Loss = 0.457\n",
      "--------------------------------- Fold 5 / 10 ---------------------------------\n",
      "\n",
      " Validation:\n",
      "Accuracy = 0.761, Loss = 0.4637\n",
      "--------------------------------- Fold 6 / 10 ---------------------------------\n",
      "\n",
      " Validation:\n",
      "Accuracy = 0.731, Loss = 0.5218\n",
      "--------------------------------- Fold 7 / 10 ---------------------------------\n",
      "\n",
      " Validation:\n",
      "Accuracy = 0.764, Loss = 0.4716\n",
      "--------------------------------- Fold 8 / 10 ---------------------------------\n",
      "\n",
      " Validation:\n",
      "Accuracy = 0.763, Loss = 0.4726\n",
      "--------------------------------- Fold 9 / 10 ---------------------------------\n",
      "\n",
      " Validation:\n",
      "Accuracy = 0.774, Loss = 0.4832\n",
      "--------------------------------- Fold 10 / 10 ---------------------------------\n",
      "\n",
      " Validation:\n",
      "Accuracy = 0.757, Loss = 0.5044\n",
      "--------------------------------- Fold 1 / 10 ---------------------------------\n",
      "\n",
      " Validation:\n",
      "Accuracy = 0.76, Loss = 0.4969\n",
      "--------------------------------- Fold 2 / 10 ---------------------------------\n",
      "\n",
      " Validation:\n",
      "Accuracy = 0.76, Loss = 0.5042\n",
      "--------------------------------- Fold 3 / 10 ---------------------------------\n",
      "\n",
      " Validation:\n",
      "Accuracy = 0.766, Loss = 0.4622\n",
      "--------------------------------- Fold 4 / 10 ---------------------------------\n",
      "\n",
      " Validation:\n",
      "Accuracy = 0.775, Loss = 0.4475\n",
      "--------------------------------- Fold 5 / 10 ---------------------------------\n",
      "\n",
      " Validation:\n",
      "Accuracy = 0.724, Loss = 0.4975\n",
      "--------------------------------- Fold 6 / 10 ---------------------------------\n",
      "\n",
      " Validation:\n",
      "Accuracy = 0.768, Loss = 0.4947\n",
      "--------------------------------- Fold 7 / 10 ---------------------------------\n",
      "\n",
      " Validation:\n",
      "Accuracy = 0.765, Loss = 0.4559\n",
      "--------------------------------- Fold 8 / 10 ---------------------------------\n",
      "\n",
      " Validation:\n",
      "Accuracy = 0.761, Loss = 0.4688\n",
      "--------------------------------- Fold 9 / 10 ---------------------------------\n",
      "\n",
      " Validation:\n",
      "Accuracy = 0.771, Loss = 0.4855\n",
      "--------------------------------- Fold 10 / 10 ---------------------------------\n",
      "\n",
      " Validation:\n",
      "Accuracy = 0.761, Loss = 0.4965\n",
      "--------------------------------- Fold 1 / 10 ---------------------------------\n",
      "\n",
      " Validation:\n",
      "Accuracy = 0.758, Loss = 0.4731\n",
      "--------------------------------- Fold 2 / 10 ---------------------------------\n",
      "\n",
      " Validation:\n",
      "Accuracy = 0.733, Loss = 0.5047\n",
      "--------------------------------- Fold 3 / 10 ---------------------------------\n",
      "\n",
      " Validation:\n",
      "Accuracy = 0.764, Loss = 0.4992\n",
      "--------------------------------- Fold 4 / 10 ---------------------------------\n",
      "\n",
      " Validation:\n",
      "Accuracy = 0.764, Loss = 0.4684\n",
      "--------------------------------- Fold 5 / 10 ---------------------------------\n",
      "\n",
      " Validation:\n",
      "Accuracy = 0.779, Loss = 0.4685\n",
      "--------------------------------- Fold 6 / 10 ---------------------------------\n",
      "\n",
      " Validation:\n",
      "Accuracy = 0.756, Loss = 0.476\n",
      "--------------------------------- Fold 7 / 10 ---------------------------------\n",
      "\n",
      " Validation:\n",
      "Accuracy = 0.769, Loss = 0.4521\n",
      "--------------------------------- Fold 8 / 10 ---------------------------------\n",
      "\n",
      " Validation:\n",
      "Accuracy = 0.757, Loss = 0.4822\n",
      "--------------------------------- Fold 9 / 10 ---------------------------------\n",
      "\n",
      " Validation:\n",
      "Accuracy = 0.744, Loss = 0.5184\n",
      "--------------------------------- Fold 10 / 10 ---------------------------------\n",
      "\n",
      " Validation:\n",
      "Accuracy = 0.748, Loss = 0.4711\n"
     ]
    },
    {
     "data": {
      "image/png": "[encoded data removed]",
      "text/plain": [
       "<Figure size 432x288 with 1 Axes>"
      ]
     },
     "metadata": {
      "needs_background": "light"
     },
     "output_type": "display_data"
    }
   ],
   "source": [
    "# n2 = 64, iterate for n1 from (5,50), step = 5\n",
    "l2_nodes = 64\n",
    "accuracy_array = []\n",
    "l1_array = range(5,51,5)\n",
    "for l1_nodes in l1_array:\n",
    "    accuracy_array.append(k_folds_validation(x_train, y_train,l1_nodes, l2_nodes))\n",
    "\n",
    "plt.plot(l1_array,accuracy_array)\n",
    "plt.show()"
   ]
  },
  {
   "cell_type": "code",
   "execution_count": 42,
   "metadata": {},
   "outputs": [
    {
     "name": "stdout",
     "output_type": "stream",
     "text": [
      " max accuracy = 0.7682509765625001 at l1 = 15\n"
     ]
    }
   ],
   "source": [
    "max_acc = max(accuracy_array)\n",
    "idx = accuracy_array.index(max_acc)\n",
    "print(f\" max accuracy = {max(accuracy_array)} at l1 = {l1_array[idx]}\")"
   ]
  },
  {
   "cell_type": "code",
   "execution_count": 44,
   "metadata": {},
   "outputs": [
    {
     "name": "stdout",
     "output_type": "stream",
     "text": [
      " max accuracy = 0.76646875 at l2 = 40\n"
     ]
    },
    {
     "data": {
      "image/png": "[encoded data removed]",
      "text/plain": [
       "<Figure size 432x288 with 1 Axes>"
      ]
     },
     "metadata": {
      "needs_background": "light"
     },
     "output_type": "display_data"
    }
   ],
   "source": [
    "# setting l1 = 15, iterate over l2 (5,50,5)\n",
    "l1_nodes = 15\n",
    "accuracy_array = []\n",
    "l2_array = range(5,51,5)\n",
    "for l2_nodes in l2_array:\n",
    "    accuracy_array.append(k_folds_validation(x_train, y_train,l1_nodes, l2_nodes))\n",
    "\n",
    "max_acc = max(accuracy_array)\n",
    "idx = accuracy_array.index(max_acc)\n",
    "print(f\" max accuracy = {max(accuracy_array)} at l2 = {l2_array[idx]}\")\n",
    "\n",
    "plt.plot(l2_array,accuracy_array)\n",
    "plt.show()"
   ]
  },
  {
   "cell_type": "markdown",
   "metadata": {},
   "source": [
    "Try the above again for a more suitable range"
   ]
  },
  {
   "cell_type": "code",
   "execution_count": 45,
   "metadata": {},
   "outputs": [
    {
     "name": "stdout",
     "output_type": "stream",
     "text": [
      "l2 = 35, accuracy = 0.7510107421875001\n",
      "l2 = 40, accuracy = 0.7441718749999999\n",
      "l2 = 45, accuracy = 0.7517939453125\n",
      "l2 = 50, accuracy = 0.761783203125\n",
      "l2 = 55, accuracy = 0.7244228515625\n",
      "l2 = 60, accuracy = 0.7552138671875\n",
      "l2 = 65, accuracy = 0.753125\n",
      "l2 = 70, accuracy = 0.7564111328125\n",
      " max accuracy = 0.761783203125 at l2 = 50\n"
     ]
    },
    {
     "data": {
      "image/png": "[encoded data removed]",
      "text/plain": [
       "<Figure size 432x288 with 1 Axes>"
      ]
     },
     "metadata": {
      "needs_background": "light"
     },
     "output_type": "display_data"
    }
   ],
   "source": [
    "# setting l1 = 15, iterate over l2 (35,70,5)\n",
    "l1_nodes = 15\n",
    "accuracy_array = []\n",
    "l2_array = range(35,71,5)\n",
    "for l2_nodes in l2_array:\n",
    "    acc = k_folds_validation(x_train, y_train,l1_nodes, l2_nodes)\n",
    "    accuracy_array.append(acc)\n",
    "    print(f\"l2 = {l2_nodes}, accuracy = {acc}\")\n",
    "\n",
    "max_acc = max(accuracy_array)\n",
    "idx = accuracy_array.index(max_acc)\n",
    "print(f\" max accuracy = {max(accuracy_array)} at l2 = {l2_array[idx]}\")\n",
    "\n",
    "plt.plot(l2_array,accuracy_array)\n",
    "plt.show()"
   ]
  },
  {
   "cell_type": "code",
   "execution_count": 48,
   "metadata": {},
   "outputs": [
    {
     "name": "stdout",
     "output_type": "stream",
     "text": [
      "l1 = 10, accuracy = 0.7585244140625\n",
      "l1 = 11, accuracy = 0.751783203125\n",
      "l1 = 12, accuracy = 0.7451132812500001\n",
      "l1 = 13, accuracy = 0.7516025390625\n",
      "l1 = 14, accuracy = 0.7541044921875\n",
      "l1 = 15, accuracy = 0.7538486328125\n",
      "l1 = 16, accuracy = 0.7484794921875\n",
      "l1 = 17, accuracy = 0.7608896484375001\n",
      "l1 = 18, accuracy = 0.757056640625\n",
      "l1 = 19, accuracy = 0.75366796875\n",
      "l1 = 20, accuracy = 0.7620849609375\n",
      " max accuracy = 0.7620849609375 at l1 = 20\n"
     ]
    },
    {
     "data": {
      "image/png": "[encoded data removed]",
      "text/plain": [
       "<Figure size 432x288 with 1 Axes>"
      ]
     },
     "metadata": {
      "needs_background": "light"
     },
     "output_type": "display_data"
    }
   ],
   "source": [
    "# setting l2 = 50, iterate over l1 (10,20)\n",
    "l2_nodes = 50\n",
    "accuracy_array = []\n",
    "l1_array = range(10,21)\n",
    "for l1_nodes in l1_array:\n",
    "    acc = k_folds_validation(x_train, y_train,l1_nodes, l2_nodes)\n",
    "    accuracy_array.append(acc)\n",
    "    print(f\"l1 = {l1_nodes}, accuracy = {acc}\")\n",
    "\n",
    "max_acc = max(accuracy_array)\n",
    "idx = accuracy_array.index(max_acc)\n",
    "print(f\" max accuracy = {max(accuracy_array)} at l1 = {l1_array[idx]}\")\n",
    "\n",
    "plt.plot(l1_array,accuracy_array)\n",
    "plt.show()"
   ]
  },
  {
   "cell_type": "code",
   "execution_count": 50,
   "metadata": {},
   "outputs": [
    {
     "name": "stdout",
     "output_type": "stream",
     "text": [
      " max accuracy = 0.7620849609375 at l1 = 20\n"
     ]
    }
   ],
   "source": [
    "max_acc = max(accuracy_array)\n",
    "idx = accuracy_array.index(max_acc)\n",
    "print(f\" max accuracy = {max(accuracy_array)} at l1 = {l1_array[idx]}\")"
   ]
  },
  {
   "cell_type": "code",
   "execution_count": 51,
   "metadata": {},
   "outputs": [
    {
     "name": "stdout",
     "output_type": "stream",
     "text": [
      "l2 = 45, accuracy = 0.764458984375\n",
      "l2 = 46, accuracy = 0.757986328125\n",
      "l2 = 47, accuracy = 0.7626513671875\n",
      "l2 = 48, accuracy = 0.7506552734375\n",
      "l2 = 49, accuracy = 0.7406884765624999\n",
      "l2 = 50, accuracy = 0.761361328125\n",
      "l2 = 51, accuracy = 0.760568359375\n",
      "l2 = 52, accuracy = 0.7538271484375001\n",
      "l2 = 53, accuracy = 0.7681513671875\n",
      "l2 = 54, accuracy = 0.75317578125\n",
      "l2 = 55, accuracy = 0.7555527343749999\n",
      " max accuracy = 0.7681513671875 at l2 = 53\n"
     ]
    },
    {
     "data": {
      "image/png": "[encoded data removed]",
      "text/plain": [
       "<Figure size 432x288 with 1 Axes>"
      ]
     },
     "metadata": {
      "needs_background": "light"
     },
     "output_type": "display_data"
    }
   ],
   "source": [
    "# setting l1 = 20, iterate over l2 (45,55)\n",
    "l1_nodes = 20\n",
    "accuracy_array = []\n",
    "l2_array = range(45,56)\n",
    "for l2_nodes in l2_array:\n",
    "    acc = k_folds_validation(x_train, y_train,l1_nodes, l2_nodes)\n",
    "    accuracy_array.append(acc)\n",
    "    print(f\"l2 = {l2_nodes}, accuracy = {acc}\")\n",
    "\n",
    "max_acc = max(accuracy_array)\n",
    "idx = accuracy_array.index(max_acc)\n",
    "print(f\" max accuracy = {max(accuracy_array)} at l2 = {l2_array[idx]}\")\n",
    "\n",
    "plt.plot(l2_array,accuracy_array)\n",
    "plt.show()"
   ]
  },
  {
   "cell_type": "markdown",
   "metadata": {},
   "source": [
    "Best parameters = 2, 53\n",
    "try for l1 one more time:"
   ]
  },
  {
   "cell_type": "code",
   "execution_count": 52,
   "metadata": {},
   "outputs": [
    {
     "name": "stdout",
     "output_type": "stream",
     "text": [
      "l1 = 10, accuracy = 0.73726171875\n",
      "l1 = 11, accuracy = 0.7688613281250001\n",
      "l1 = 12, accuracy = 0.7524199218750001\n",
      "l1 = 13, accuracy = 0.7678232421875\n",
      "l1 = 14, accuracy = 0.7580068359375001\n",
      "l1 = 15, accuracy = 0.7544111328125\n",
      "l1 = 16, accuracy = 0.7482548828125\n",
      "l1 = 17, accuracy = 0.7442685546875\n",
      "l1 = 18, accuracy = 0.7573134765625\n",
      "l1 = 19, accuracy = 0.7608984375000001\n",
      "l1 = 20, accuracy = 0.7467802734375\n",
      " max accuracy = 0.7688613281250001 at l1 = 11\n"
     ]
    },
    {
     "data": {
      "image/png": "[encoded data removed]",
      "text/plain": [
       "<Figure size 432x288 with 1 Axes>"
      ]
     },
     "metadata": {
      "needs_background": "light"
     },
     "output_type": "display_data"
    }
   ],
   "source": [
    "# setting l2 = 50, iterate over l1 (10,20)\n",
    "l2_nodes = 53\n",
    "accuracy_array = []\n",
    "l1_array = range(10,21)\n",
    "for l1_nodes in l1_array:\n",
    "    acc = k_folds_validation(x_train, y_train,l1_nodes, l2_nodes)\n",
    "    accuracy_array.append(acc)\n",
    "    print(f\"l1 = {l1_nodes}, accuracy = {acc}\")\n",
    "\n",
    "max_acc = max(accuracy_array)\n",
    "idx = accuracy_array.index(max_acc)\n",
    "print(f\" max accuracy = {max(accuracy_array)} at l1 = {l1_array[idx]}\")\n",
    "\n",
    "plt.plot(l1_array,accuracy_array)\n",
    "plt.show()"
   ]
  },
  {
   "cell_type": "markdown",
   "metadata": {},
   "source": [
    "best accuracy = 76.89% at an 11, 53 nn.\n"
   ]
  },
  {
   "cell_type": "markdown",
   "metadata": {},
   "source": [
    "## Adjusting more hyperparameters \n",
    "\n",
    "1. batch size\n",
    "2. epochs\n",
    "3. learning rate"
   ]
  },
  {
   "cell_type": "code",
   "execution_count": 56,
   "metadata": {},
   "outputs": [
    {
     "name": "stdout",
     "output_type": "stream",
     "text": [
      "lr = 1, accuracy = 0.496927734375\n",
      "lr = 0.1, accuracy = 0.5002128906250001\n",
      "lr = 0.01, accuracy = 0.7823261718750001\n",
      "lr = 0.001, accuracy = 0.7659980468750001\n",
      "lr = 0.0001, accuracy = 0.7047724609375\n",
      "lr = 1e-05, accuracy = 0.5707421875\n",
      " max accuracy = 0.7823261718750001 at lr = 0.01\n"
     ]
    },
    {
     "data": {
      "image/png": "[encoded data removed]",
      "text/plain": [
       "<Figure size 432x288 with 1 Axes>"
      ]
     },
     "metadata": {
      "needs_background": "light"
     },
     "output_type": "display_data"
    }
   ],
   "source": [
    "# learning rate alternate epoch\n",
    "\n",
    "lr_array = [1,0.1,0.01,1e-3,1e-4,1e-5]\n",
    "accuracy_array = []\n",
    "\n",
    "l1_nodes = 11\n",
    "l2_nodes = 53\n",
    "\n",
    "for lr in lr_array:\n",
    "    acc = k_folds_validation(x_train, y_train,l1_nodes, l2_nodes,lr=lr)\n",
    "    accuracy_array.append(acc)\n",
    "    # print(f\"lr = {lr}, accuracy = {acc}\")\n",
    "\n",
    "max_acc = max(accuracy_array)\n",
    "idx = accuracy_array.index(max_acc)\n",
    "print(f\" max accuracy = {max(accuracy_array)} at lr = {lr_array[idx]}\")\n",
    "\n",
    "plt.plot(lr_array,accuracy_array)\n",
    "plt.show()"
   ]
  },
  {
   "cell_type": "code",
   "execution_count": 57,
   "metadata": {},
   "outputs": [
    {
     "name": "stdout",
     "output_type": "stream",
     "text": [
      "epochs = 5, accuracy = 0.7885068359375\n",
      "epochs = 15, accuracy = 0.7937714843750001\n",
      "epochs = 25, accuracy = 0.78025\n",
      "epochs = 35, accuracy = 0.7841445312499999\n",
      "epochs = 45, accuracy = 0.7818740234375001\n",
      " max accuracy = 0.7937714843750001 at epochs = 15\n"
     ]
    },
    {
     "data": {
      "image/png": "[encoded data removed]",
      "text/plain": [
       "<Figure size 432x288 with 1 Axes>"
      ]
     },
     "metadata": {
      "needs_background": "light"
     },
     "output_type": "display_data"
    }
   ],
   "source": [
    "# learning rate alternate epoch\n",
    "\n",
    "lr = 0.01\n",
    "epochs_array = range(5,51,10)\n",
    "accuracy_array = []\n",
    "\n",
    "l1_nodes = 11\n",
    "l2_nodes = 53\n",
    "\n",
    "for epochs in epochs_array:\n",
    "    acc = k_folds_validation(x_train, y_train,l1_nodes, l2_nodes,lr=lr,epochs=epochs)\n",
    "    accuracy_array.append(acc)\n",
    "    print(f\"epochs = {epochs}, accuracy = {acc}\")\n",
    "\n",
    "max_acc = max(accuracy_array)\n",
    "idx = accuracy_array.index(max_acc)\n",
    "print(f\" max accuracy = {max(accuracy_array)} at epochs = {epochs_array[idx]}\")\n",
    "\n",
    "plt.plot(epochs_array,accuracy_array)\n",
    "plt.show()"
   ]
  },
  {
   "cell_type": "code",
   "execution_count": null,
   "metadata": {},
   "outputs": [],
   "source": [
    "# learning rate alternate epoch\n",
    "from numpy import arange\n",
    "lr_array = arange(0.009,0.099,0.001)\n",
    "accuracy_array = []\n",
    "\n",
    "epochs = 15\n",
    "l1_nodes = 11\n",
    "l2_nodes = 53\n",
    "\n",
    "for lr in lr_array:\n",
    "    acc = k_folds_validation(x_train, y_train,l1_nodes, l2_nodes,lr=lr,epochs = epochs)\n",
    "    accuracy_array.append(acc)\n",
    "    print(f\"lr = {lr}, accuracy = {acc}\")\n",
    "\n",
    "max_acc = max(accuracy_array)\n",
    "idx = accuracy_array.index(max_acc)\n",
    "print(f\" max accuracy = {max(accuracy_array)} at lr = {lr_array[idx]}\")\n",
    "\n",
    "plt.plot(lr_array,accuracy_array)\n",
    "plt.show()"
   ]
  },
  {
   "cell_type": "code",
   "execution_count": 60,
   "metadata": {},
   "outputs": [
    {
     "name": "stdout",
     "output_type": "stream",
     "text": [
      " max accuracy = 0.7949873046875 at lr = 0.011999999999999997\n"
     ]
    },
    {
     "data": {
      "image/png": "[encoded data removed]",
      "text/plain": [
       "<Figure size 432x288 with 1 Axes>"
      ]
     },
     "metadata": {
      "needs_background": "light"
     },
     "output_type": "display_data"
    }
   ],
   "source": [
    "max_acc = max(accuracy_array)\n",
    "idx = accuracy_array.index(max_acc)\n",
    "print(f\" max accuracy = {max(accuracy_array)} at lr = {lr_array[idx]}\")\n",
    "\n",
    "plt.plot(lr_array[:len(accuracy_array)],accuracy_array)\n",
    "plt.show()"
   ]
  },
  {
   "cell_type": "code",
   "execution_count": 61,
   "metadata": {},
   "outputs": [
    {
     "name": "stdout",
     "output_type": "stream",
     "text": [
      "epochs = 10, accuracy = 0.7758896484375\n",
      "epochs = 11, accuracy = 0.7854697265625\n",
      "epochs = 12, accuracy = 0.7756660156249999\n",
      "epochs = 13, accuracy = 0.7753554687499999\n",
      "epochs = 14, accuracy = 0.766822265625\n",
      "epochs = 15, accuracy = 0.773548828125\n",
      "epochs = 16, accuracy = 0.7707998046875\n",
      "epochs = 17, accuracy = 0.7870322265625\n",
      "epochs = 18, accuracy = 0.7865634765625\n",
      "epochs = 19, accuracy = 0.786837890625\n",
      "epochs = 20, accuracy = 0.7723876953125\n",
      " max accuracy = 0.7870322265625 at epochs = 17\n"
     ]
    },
    {
     "data": {
      "image/png": "[encoded data removed]",
      "text/plain": [
       "<Figure size 432x288 with 1 Axes>"
      ]
     },
     "metadata": {
      "needs_background": "light"
     },
     "output_type": "display_data"
    }
   ],
   "source": [
    "# learning rate alternate epoch\n",
    "\n",
    "lr = 0.012\n",
    "epochs_array = range(10,21)\n",
    "accuracy_array = []\n",
    "\n",
    "l1_nodes = 11\n",
    "l2_nodes = 53\n",
    "\n",
    "for epochs in epochs_array:\n",
    "    acc = k_folds_validation(x_train, y_train,l1_nodes, l2_nodes,lr=lr,epochs=epochs)\n",
    "    accuracy_array.append(acc)\n",
    "    print(f\"epochs = {epochs}, accuracy = {acc}\")\n",
    "\n",
    "max_acc = max(accuracy_array)\n",
    "idx = accuracy_array.index(max_acc)\n",
    "print(f\" max accuracy = {max(accuracy_array)} at epochs = {epochs_array[idx]}\")\n",
    "\n",
    "plt.plot(epochs_array,accuracy_array)\n",
    "plt.show()"
   ]
  },
  {
   "cell_type": "markdown",
   "metadata": {},
   "source": [
    "Epochs = 17\n",
    "Lr = 0.01"
   ]
  },
  {
   "cell_type": "code",
   "execution_count": 63,
   "metadata": {},
   "outputs": [
    {
     "name": "stdout",
     "output_type": "stream",
     "text": [
      "batch size = 10, accuracy = 0.7889453125000001\n",
      "batch size = 110, accuracy = 0.7765029296875\n",
      "batch size = 210, accuracy = 0.7821669921875001\n",
      "batch size = 310, accuracy = 0.8049667968750001\n",
      "batch size = 410, accuracy = 0.7950712890625\n",
      "batch size = 510, accuracy = 0.7904462890625001\n",
      "batch size = 610, accuracy = 0.7929140625\n",
      "batch size = 710, accuracy = 0.7972744140625001\n",
      "batch size = 810, accuracy = 0.787564453125\n",
      "batch size = 910, accuracy = 0.797939453125\n",
      "batch size = 1010, accuracy = 0.7811308593749999\n",
      "max accuracy = 0.8049667968750001 at batch size = 310\n"
     ]
    },
    {
     "data": {
      "image/png": "[encoded data removed]",
      "text/plain": [
       "<Figure size 432x288 with 1 Axes>"
      ]
     },
     "metadata": {
      "needs_background": "light"
     },
     "output_type": "display_data"
    }
   ],
   "source": [
    "# batch size\n",
    "batch_arr = range(10,1011,100)\n",
    "accuracy_array = []\n",
    "\n",
    "epochs = 17\n",
    "l1_nodes = 11\n",
    "l2_nodes = 53\n",
    "lr = 0.01\n",
    "\n",
    "for bs in batch_arr:\n",
    "    acc = k_folds_validation(x_train, y_train,l1_nodes, l2_nodes,lr=lr,epochs = epochs,batch_size=bs)\n",
    "    accuracy_array.append(acc)\n",
    "    print(f\"batch size = {bs}, accuracy = {acc}\")\n",
    "\n",
    "max_acc = max(accuracy_array)\n",
    "idx = accuracy_array.index(max_acc)\n",
    "print(f\"max accuracy = {max(accuracy_array)} at batch size = {batch_arr[idx]}\")\n",
    "\n",
    "plt.plot(batch_arr,accuracy_array)\n",
    "plt.show()"
   ]
  },
  {
   "cell_type": "code",
   "execution_count": 64,
   "metadata": {},
   "outputs": [
    {
     "name": "stdout",
     "output_type": "stream",
     "text": [
      "batch size = 200, accuracy = 0.767064453125\n",
      "batch size = 220, accuracy = 0.790103515625\n",
      "batch size = 240, accuracy = 0.7782324218750001\n",
      "batch size = 260, accuracy = 0.7861660156250001\n",
      "batch size = 280, accuracy = 0.7956308593750001\n",
      "batch size = 300, accuracy = 0.788302734375\n",
      "batch size = 320, accuracy = 0.7916767578125\n",
      "batch size = 340, accuracy = 0.774677734375\n",
      "batch size = 360, accuracy = 0.7930595703125001\n",
      "batch size = 380, accuracy = 0.772056640625\n",
      "batch size = 400, accuracy = 0.7970302734375001\n",
      "max accuracy = 0.7970302734375001 at batch size = 400\n"
     ]
    },
    {
     "data": {
      "image/png": "[encoded data removed]",
      "text/plain": [
       "<Figure size 432x288 with 1 Axes>"
      ]
     },
     "metadata": {
      "needs_background": "light"
     },
     "output_type": "display_data"
    }
   ],
   "source": [
    "# batch size\n",
    "batch_arr = range(200,401,20)\n",
    "accuracy_array = []\n",
    "\n",
    "epochs = 17\n",
    "l1_nodes = 11\n",
    "l2_nodes = 53\n",
    "lr = 0.01\n",
    "\n",
    "for bs in batch_arr:\n",
    "    acc = k_folds_validation(x_train, y_train,l1_nodes, l2_nodes,lr=lr,epochs = epochs,batch_size=bs)\n",
    "    accuracy_array.append(acc)\n",
    "    print(f\"batch size = {bs}, accuracy = {acc}\")\n",
    "\n",
    "max_acc = max(accuracy_array)\n",
    "idx = accuracy_array.index(max_acc)\n",
    "print(f\"max accuracy = {max(accuracy_array)} at batch size = {batch_arr[idx]}\")\n",
    "\n",
    "plt.plot(batch_arr,accuracy_array)\n",
    "plt.show()"
   ]
  },
  {
   "cell_type": "markdown",
   "metadata": {},
   "source": [
    "All hyper parameters are tuned, now we train the model accordingly"
   ]
  },
  {
   "cell_type": "code",
   "execution_count": 77,
   "metadata": {},
   "outputs": [
    {
     "name": "stdout",
     "output_type": "stream",
     "text": [
      "epoch 1 / 17\t loss 0.5328453183174133\n",
      "epoch 2 / 17\t loss 0.4402827322483063\n",
      "epoch 3 / 17\t loss 0.2610189616680145\n",
      "epoch 4 / 17\t loss 0.29563799500465393\n",
      "epoch 5 / 17\t loss 0.39467141032218933\n",
      "epoch 6 / 17\t loss 0.49355563521385193\n",
      "epoch 7 / 17\t loss 0.6398259401321411\n",
      "epoch 8 / 17\t loss 0.44741255044937134\n",
      "epoch 9 / 17\t loss 0.5018904805183411\n",
      "epoch 10 / 17\t loss 0.2707672715187073\n",
      "epoch 11 / 17\t loss 0.36441439390182495\n",
      "epoch 12 / 17\t loss 0.5330716967582703\n",
      "epoch 13 / 17\t loss 0.14442405104637146\n",
      "epoch 14 / 17\t loss 0.6592936515808105\n",
      "epoch 15 / 17\t loss 0.482984334230423\n",
      "epoch 16 / 17\t loss 0.37954795360565186\n",
      "epoch 17 / 17\t loss 0.31740519404411316\n",
      "\n",
      " Test:\n",
      "Accuracy = 0.8, Loss = 0.4245\n"
     ]
    }
   ],
   "source": [
    "batch_size = 400\n",
    "epochs = 17\n",
    "lr = 0.01\n",
    "l1_nodes = 11\n",
    "l2_nodes = 53\n",
    "\n",
    "model = Model(l1_nodes,l2_nodes)\n",
    "optimizer = Adam(model.parameters(),lr = lr)\n",
    "avg_accuracy = 0\n",
    "train_set, test_set = loaders(\n",
    "    x_train,\n",
    "    y_train,\n",
    "    x_test,\n",
    "    y_test,\n",
    "    batch_size=batch_size\n",
    "    )\n",
    "model.apply(reset_weights)\n",
    "train(train_set, model,optimizer, epochs = epochs)\n",
    "\n",
    "accuracy, loss = get_accuracy_loss(test_set, model)\n",
    "avg_accuracy = (avg_accuracy + accuracy) / 2\n",
    "print(f\"\\n Test:\")\n",
    "print(f\"Accuracy = {accuracy}, Loss = {loss}\")"
   ]
  },
  {
   "cell_type": "code",
   "execution_count": 85,
   "metadata": {},
   "outputs": [],
   "source": [
    "# build confusion matrix\n",
    "model.eval()\n",
    "y_pred = model(x_test)\n",
    "for i, val in enumerate(y_pred):\n",
    "    if val >= 0.5:\n",
    "        y_pred[i] = 1\n",
    "    else:\n",
    "        y_pred[i] = 0\n",
    "\n",
    "from sklearn.metrics import confusion_matrix, ConfusionMatrixDisplay, accuracy_score, precision_score, recall_score, f1_score\n",
    "\n",
    "m = confusion_matrix(y_test, y_pred.detach().numpy())\n"
   ]
  },
  {
   "cell_type": "code",
   "execution_count": 88,
   "metadata": {},
   "outputs": [
    {
     "name": "stdout",
     "output_type": "stream",
     "text": [
      "Accuracy = 0.7996511338151009\n",
      "Precision = 0.7884899163797344\n",
      "Recall = 0.8108244815376834\n",
      "F1 = 0.7995012468827931\n"
     ]
    },
    {
     "data": {
      "image/png": "[encoded data removed]",
      "text/plain": [
       "<Figure size 432x288 with 2 Axes>"
      ]
     },
     "metadata": {
      "needs_background": "light"
     },
     "output_type": "display_data"
    }
   ],
   "source": [
    "DISPLAY_LABELS = ['g','h']\n",
    "POS_LABEL = 1\n",
    "\n",
    "def disp_scores(y_true,y_pred,pos_label = POS_LABEL,display_labels = DISPLAY_LABELS):\n",
    "    ConfusionMatrixDisplay( confusion_matrix(y_true,y_pred),display_labels=display_labels).plot()\n",
    "    print(\"Accuracy =\",accuracy_score(y_true,y_pred))\n",
    "    print(\"Precision =\",precision_score(y_true,y_pred,pos_label=pos_label))\n",
    "    print(\"Recall =\",recall_score(y_true,y_pred,pos_label=pos_label))\n",
    "    print(\"F1 =\",f1_score(y_true,y_pred,pos_label=pos_label))\n",
    "\n",
    "disp_scores(y_test, y_pred.detach().numpy())"
   ]
  }
 ],
 "metadata": {
  "interpreter": {
   "hash": "81794d4967e6c3204c66dcd87b604927b115b27c00565d3d43f05ba2f3a2cb0d"
  },
  "kernelspec": {
   "display_name": "Python 3.9.6 64-bit",
   "language": "python",
   "name": "python3"
  },
  "language_info": {
   "codemirror_mode": {
    "name": "ipython",
    "version": 3
   },
   "file_extension": ".py",
   "mimetype": "text/x-python",
   "name": "python",
   "nbconvert_exporter": "python",
   "pygments_lexer": "ipython3",
   "version": "3.9.6"
  },
  "orig_nbformat": 4
 },
 "nbformat": 4,
 "nbformat_minor": 2
}
