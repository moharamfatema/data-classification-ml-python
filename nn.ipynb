{
 "cells": [
  {
   "cell_type": "code",
   "execution_count": 22,
   "metadata": {},
   "outputs": [],
   "source": [
    "import torch\n",
    "import torchvision\n",
    "from torchvision import transforms, datasets\n",
    "import torch.nn as nn\n",
    "import torch.nn.functional as fun\n",
    "import pandas as pd\n",
    "from data import get_data\n",
    "(x_train, y_train, x_test, y_test) = get_data()\n"
   ]
  },
  {
   "cell_type": "code",
   "execution_count": 39,
   "metadata": {},
   "outputs": [],
   "source": [
    "\n",
    "def df_to_tensor(df: pd.DataFrame):\n",
    "    return torch.from_numpy(df.values).float()\n",
    "\n",
    "# convert classes to numerical data\n",
    "def to_numerical(df: pd.Series, positive_class = 'g'):\n",
    "    new = df.copy()\n",
    "    for i, v in enumerate(new.values):\n",
    "        if v == positive_class:\n",
    "            new.iloc[i] = 1.\n",
    "        else:\n",
    "            new.iloc[i] = 0.\n",
    "    return new.astype(float)\n",
    "\n",
    "x_train = df_to_tensor(x_train)\n",
    "x_test = df_to_tensor(x_test)\n",
    "y_train = df_to_tensor(to_numerical(y_train))\n",
    "y_test = df_to_tensor(to_numerical(y_test))"
   ]
  },
  {
   "cell_type": "code",
   "execution_count": 40,
   "metadata": {},
   "outputs": [],
   "source": [
    "# loaders\n",
    "BATCH_SIZE = 64\n",
    "\n",
    "trainset = torch.utils.data.DataLoader((x_train, y_train), batch_size=BATCH_SIZE, shuffle=True)\n",
    "testset = torch.utils.data.DataLoader((x_test, x_test), batch_size=BATCH_SIZE, shuffle=True)"
   ]
  },
  {
   "cell_type": "code",
   "execution_count": 44,
   "metadata": {},
   "outputs": [],
   "source": [
    "# model\n",
    "class Model(nn.Module):\n",
    "    def __init__(self, l1_nodes, l2_nodes, input_size = 10):\n",
    "        super().__init__()\n",
    "        self.l1 = nn.Linear(input_size, l1_nodes)\n",
    "        self.l2 = nn.Linear(l1_nodes, l2_nodes)\n",
    "        self.l1 = nn.Linear(l2_nodes, 1)\n",
    "\n",
    "    def forward(self, x):\n",
    "        x = fun.relu(self.l1(x))\n",
    "        x = fun.relu(self.l2(x))\n",
    "\n",
    "        x = fun.sigmoid(self.l1(x)) # TODO: sigmoid or no?\n",
    "        return x\n",
    "\n",
    "L1_NODES = 20\n",
    "L2_NODES = 20\n",
    "\n",
    "model = Model(L1_NODES,L2_NODES)"
   ]
  }
 ],
 "metadata": {
  "interpreter": {
   "hash": "81794d4967e6c3204c66dcd87b604927b115b27c00565d3d43f05ba2f3a2cb0d"
  },
  "kernelspec": {
   "display_name": "Python 3.9.6 64-bit",
   "language": "python",
   "name": "python3"
  },
  "language_info": {
   "codemirror_mode": {
    "name": "ipython",
    "version": 3
   },
   "file_extension": ".py",
   "mimetype": "text/x-python",
   "name": "python",
   "nbconvert_exporter": "python",
   "pygments_lexer": "ipython3",
   "version": "3.9.6"
  },
  "orig_nbformat": 4
 },
 "nbformat": 4,
 "nbformat_minor": 2
}
