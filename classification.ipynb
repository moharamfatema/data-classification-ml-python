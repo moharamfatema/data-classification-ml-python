{
  "cells": [
    {
      "cell_type": "markdown",
      "id": "44b4e4b8",
      "metadata": {
        "id": "44b4e4b8"
      },
      "source": [
        "# Data Classification"
      ]
    },
    {
      "cell_type": "markdown",
      "id": "7907634c",
      "metadata": {
        "id": "7907634c"
      },
      "source": [
        "[![Open In Colab](https://colab.research.google.com/assets/colab-badge.svg)](https://colab.research.google.com/github/moharamfatema/data-classification-ml-python/blob/main/classification.ipynb)"
      ]
    },
    {
      "cell_type": "code",
      "execution_count": 1,
      "id": "806d775f",
      "metadata": {
        "id": "806d775f"
      },
      "outputs": [],
      "source": [
        "import pandas as pd\n",
        "import matplotlib.pyplot as plt\n",
        "from time import perf_counter"
      ]
    },
    {
      "cell_type": "code",
      "execution_count": 2,
      "id": "f8e0a0f1",
      "metadata": {
        "id": "f8e0a0f1"
      },
      "outputs": [],
      "source": [
        "from sklearn.tree import DecisionTreeClassifier\n",
        "from sklearn.ensemble import AdaBoostClassifier, RandomForestClassifier\n",
        "from sklearn.neighbors import KNeighborsClassifier\n",
        "from sklearn.model_selection import cross_validate\n",
        "from sklearn.naive_bayes import GaussianNB\n",
        "from sklearn.metrics import confusion_matrix, ConfusionMatrixDisplay, precision_score, recall_score, f1_score, accuracy_score"
      ]
    },
    {
      "cell_type": "code",
      "execution_count": 3,
      "id": "eb3dc16e",
      "metadata": {
        "id": "eb3dc16e",
        "outputId": "760a1b00-9ac6-4fdd-9731-446c44ea13ac",
        "colab": {
          "base_uri": "https://localhost:8080/",
          "height": 424
        }
      },
      "outputs": [
        {
          "output_type": "execute_result",
          "data": {
            "text/plain": [
              "        28.7967   16.0021  2.6449  0.3918  0.1982   27.7004    22.011  \\\n",
              "0       31.6036   11.7235  2.5185  0.5303  0.3773   26.2722   23.8238   \n",
              "1      162.0520  136.0310  4.0612  0.0374  0.0187  116.7410  -64.8580   \n",
              "2       23.8172    9.5728  2.3385  0.6147  0.3922   27.2107   -6.4633   \n",
              "3       75.1362   30.9205  3.1611  0.3168  0.1832   -5.5277   28.5525   \n",
              "4       51.6240   21.1502  2.9085  0.2420  0.1340   50.8761   43.1887   \n",
              "...         ...       ...     ...     ...     ...       ...       ...   \n",
              "19014   21.3846   10.9170  2.6161  0.5857  0.3934   15.2618   11.5245   \n",
              "19015   28.9452    6.7020  2.2672  0.5351  0.2784   37.0816   13.1853   \n",
              "19016   75.4455   47.5305  3.4483  0.1417  0.0549   -9.3561   41.0562   \n",
              "19017  120.5135   76.9018  3.9939  0.0944  0.0683    5.8043  -93.5224   \n",
              "19018  187.1814   53.0014  3.2093  0.2876  0.1539 -167.3125 -168.4558   \n",
              "\n",
              "       -8.2027   40.092   81.8828  g  \n",
              "0      -9.9574   6.3609  205.2610  g  \n",
              "1     -45.2160  76.9600  256.7880  g  \n",
              "2      -7.1513  10.4490  116.7370  g  \n",
              "3      21.8393   4.6480  356.4620  g  \n",
              "4       9.8145   3.6130  238.0980  g  \n",
              "...        ...      ...       ... ..  \n",
              "19014   2.8766   2.4229  106.8258  h  \n",
              "19015  -2.9632  86.7975  247.4560  h  \n",
              "19016  -9.4662  30.2987  256.5166  h  \n",
              "19017 -63.8389  84.6874  408.3166  h  \n",
              "19018  31.4755  52.7310  272.3174  h  \n",
              "\n",
              "[19019 rows x 11 columns]"
            ],
            "text/html": [
              "\n",
              "  <div id=\"df-62124e34-f663-4b7b-800d-e043fefbc7d5\">\n",
              "    <div class=\"colab-df-container\">\n",
              "      <div>\n",
              "<style scoped>\n",
              "    .dataframe tbody tr th:only-of-type {\n",
              "        vertical-align: middle;\n",
              "    }\n",
              "\n",
              "    .dataframe tbody tr th {\n",
              "        vertical-align: top;\n",
              "    }\n",
              "\n",
              "    .dataframe thead th {\n",
              "        text-align: right;\n",
              "    }\n",
              "</style>\n",
              "<table border=\"1\" class=\"dataframe\">\n",
              "  <thead>\n",
              "    <tr style=\"text-align: right;\">\n",
              "      <th></th>\n",
              "      <th>28.7967</th>\n",
              "      <th>16.0021</th>\n",
              "      <th>2.6449</th>\n",
              "      <th>0.3918</th>\n",
              "      <th>0.1982</th>\n",
              "      <th>27.7004</th>\n",
              "      <th>22.011</th>\n",
              "      <th>-8.2027</th>\n",
              "      <th>40.092</th>\n",
              "      <th>81.8828</th>\n",
              "      <th>g</th>\n",
              "    </tr>\n",
              "  </thead>\n",
              "  <tbody>\n",
              "    <tr>\n",
              "      <th>0</th>\n",
              "      <td>31.6036</td>\n",
              "      <td>11.7235</td>\n",
              "      <td>2.5185</td>\n",
              "      <td>0.5303</td>\n",
              "      <td>0.3773</td>\n",
              "      <td>26.2722</td>\n",
              "      <td>23.8238</td>\n",
              "      <td>-9.9574</td>\n",
              "      <td>6.3609</td>\n",
              "      <td>205.2610</td>\n",
              "      <td>g</td>\n",
              "    </tr>\n",
              "    <tr>\n",
              "      <th>1</th>\n",
              "      <td>162.0520</td>\n",
              "      <td>136.0310</td>\n",
              "      <td>4.0612</td>\n",
              "      <td>0.0374</td>\n",
              "      <td>0.0187</td>\n",
              "      <td>116.7410</td>\n",
              "      <td>-64.8580</td>\n",
              "      <td>-45.2160</td>\n",
              "      <td>76.9600</td>\n",
              "      <td>256.7880</td>\n",
              "      <td>g</td>\n",
              "    </tr>\n",
              "    <tr>\n",
              "      <th>2</th>\n",
              "      <td>23.8172</td>\n",
              "      <td>9.5728</td>\n",
              "      <td>2.3385</td>\n",
              "      <td>0.6147</td>\n",
              "      <td>0.3922</td>\n",
              "      <td>27.2107</td>\n",
              "      <td>-6.4633</td>\n",
              "      <td>-7.1513</td>\n",
              "      <td>10.4490</td>\n",
              "      <td>116.7370</td>\n",
              "      <td>g</td>\n",
              "    </tr>\n",
              "    <tr>\n",
              "      <th>3</th>\n",
              "      <td>75.1362</td>\n",
              "      <td>30.9205</td>\n",
              "      <td>3.1611</td>\n",
              "      <td>0.3168</td>\n",
              "      <td>0.1832</td>\n",
              "      <td>-5.5277</td>\n",
              "      <td>28.5525</td>\n",
              "      <td>21.8393</td>\n",
              "      <td>4.6480</td>\n",
              "      <td>356.4620</td>\n",
              "      <td>g</td>\n",
              "    </tr>\n",
              "    <tr>\n",
              "      <th>4</th>\n",
              "      <td>51.6240</td>\n",
              "      <td>21.1502</td>\n",
              "      <td>2.9085</td>\n",
              "      <td>0.2420</td>\n",
              "      <td>0.1340</td>\n",
              "      <td>50.8761</td>\n",
              "      <td>43.1887</td>\n",
              "      <td>9.8145</td>\n",
              "      <td>3.6130</td>\n",
              "      <td>238.0980</td>\n",
              "      <td>g</td>\n",
              "    </tr>\n",
              "    <tr>\n",
              "      <th>...</th>\n",
              "      <td>...</td>\n",
              "      <td>...</td>\n",
              "      <td>...</td>\n",
              "      <td>...</td>\n",
              "      <td>...</td>\n",
              "      <td>...</td>\n",
              "      <td>...</td>\n",
              "      <td>...</td>\n",
              "      <td>...</td>\n",
              "      <td>...</td>\n",
              "      <td>...</td>\n",
              "    </tr>\n",
              "    <tr>\n",
              "      <th>19014</th>\n",
              "      <td>21.3846</td>\n",
              "      <td>10.9170</td>\n",
              "      <td>2.6161</td>\n",
              "      <td>0.5857</td>\n",
              "      <td>0.3934</td>\n",
              "      <td>15.2618</td>\n",
              "      <td>11.5245</td>\n",
              "      <td>2.8766</td>\n",
              "      <td>2.4229</td>\n",
              "      <td>106.8258</td>\n",
              "      <td>h</td>\n",
              "    </tr>\n",
              "    <tr>\n",
              "      <th>19015</th>\n",
              "      <td>28.9452</td>\n",
              "      <td>6.7020</td>\n",
              "      <td>2.2672</td>\n",
              "      <td>0.5351</td>\n",
              "      <td>0.2784</td>\n",
              "      <td>37.0816</td>\n",
              "      <td>13.1853</td>\n",
              "      <td>-2.9632</td>\n",
              "      <td>86.7975</td>\n",
              "      <td>247.4560</td>\n",
              "      <td>h</td>\n",
              "    </tr>\n",
              "    <tr>\n",
              "      <th>19016</th>\n",
              "      <td>75.4455</td>\n",
              "      <td>47.5305</td>\n",
              "      <td>3.4483</td>\n",
              "      <td>0.1417</td>\n",
              "      <td>0.0549</td>\n",
              "      <td>-9.3561</td>\n",
              "      <td>41.0562</td>\n",
              "      <td>-9.4662</td>\n",
              "      <td>30.2987</td>\n",
              "      <td>256.5166</td>\n",
              "      <td>h</td>\n",
              "    </tr>\n",
              "    <tr>\n",
              "      <th>19017</th>\n",
              "      <td>120.5135</td>\n",
              "      <td>76.9018</td>\n",
              "      <td>3.9939</td>\n",
              "      <td>0.0944</td>\n",
              "      <td>0.0683</td>\n",
              "      <td>5.8043</td>\n",
              "      <td>-93.5224</td>\n",
              "      <td>-63.8389</td>\n",
              "      <td>84.6874</td>\n",
              "      <td>408.3166</td>\n",
              "      <td>h</td>\n",
              "    </tr>\n",
              "    <tr>\n",
              "      <th>19018</th>\n",
              "      <td>187.1814</td>\n",
              "      <td>53.0014</td>\n",
              "      <td>3.2093</td>\n",
              "      <td>0.2876</td>\n",
              "      <td>0.1539</td>\n",
              "      <td>-167.3125</td>\n",
              "      <td>-168.4558</td>\n",
              "      <td>31.4755</td>\n",
              "      <td>52.7310</td>\n",
              "      <td>272.3174</td>\n",
              "      <td>h</td>\n",
              "    </tr>\n",
              "  </tbody>\n",
              "</table>\n",
              "<p>19019 rows × 11 columns</p>\n",
              "</div>\n",
              "      <button class=\"colab-df-convert\" onclick=\"convertToInteractive('df-62124e34-f663-4b7b-800d-e043fefbc7d5')\"\n",
              "              title=\"Convert this dataframe to an interactive table.\"\n",
              "              style=\"display:none;\">\n",
              "        \n",
              "  <svg xmlns=\"http://www.w3.org/2000/svg\" height=\"24px\"viewBox=\"0 0 24 24\"\n",
              "       width=\"24px\">\n",
              "    <path d=\"M0 0h24v24H0V0z\" fill=\"none\"/>\n",
              "    <path d=\"M18.56 5.44l.94 2.06.94-2.06 2.06-.94-2.06-.94-.94-2.06-.94 2.06-2.06.94zm-11 1L8.5 8.5l.94-2.06 2.06-.94-2.06-.94L8.5 2.5l-.94 2.06-2.06.94zm10 10l.94 2.06.94-2.06 2.06-.94-2.06-.94-.94-2.06-.94 2.06-2.06.94z\"/><path d=\"M17.41 7.96l-1.37-1.37c-.4-.4-.92-.59-1.43-.59-.52 0-1.04.2-1.43.59L10.3 9.45l-7.72 7.72c-.78.78-.78 2.05 0 2.83L4 21.41c.39.39.9.59 1.41.59.51 0 1.02-.2 1.41-.59l7.78-7.78 2.81-2.81c.8-.78.8-2.07 0-2.86zM5.41 20L4 18.59l7.72-7.72 1.47 1.35L5.41 20z\"/>\n",
              "  </svg>\n",
              "      </button>\n",
              "      \n",
              "  <style>\n",
              "    .colab-df-container {\n",
              "      display:flex;\n",
              "      flex-wrap:wrap;\n",
              "      gap: 12px;\n",
              "    }\n",
              "\n",
              "    .colab-df-convert {\n",
              "      background-color: #E8F0FE;\n",
              "      border: none;\n",
              "      border-radius: 50%;\n",
              "      cursor: pointer;\n",
              "      display: none;\n",
              "      fill: #1967D2;\n",
              "      height: 32px;\n",
              "      padding: 0 0 0 0;\n",
              "      width: 32px;\n",
              "    }\n",
              "\n",
              "    .colab-df-convert:hover {\n",
              "      background-color: #E2EBFA;\n",
              "      box-shadow: 0px 1px 2px rgba(60, 64, 67, 0.3), 0px 1px 3px 1px rgba(60, 64, 67, 0.15);\n",
              "      fill: #174EA6;\n",
              "    }\n",
              "\n",
              "    [theme=dark] .colab-df-convert {\n",
              "      background-color: #3B4455;\n",
              "      fill: #D2E3FC;\n",
              "    }\n",
              "\n",
              "    [theme=dark] .colab-df-convert:hover {\n",
              "      background-color: #434B5C;\n",
              "      box-shadow: 0px 1px 3px 1px rgba(0, 0, 0, 0.15);\n",
              "      filter: drop-shadow(0px 1px 2px rgba(0, 0, 0, 0.3));\n",
              "      fill: #FFFFFF;\n",
              "    }\n",
              "  </style>\n",
              "\n",
              "      <script>\n",
              "        const buttonEl =\n",
              "          document.querySelector('#df-62124e34-f663-4b7b-800d-e043fefbc7d5 button.colab-df-convert');\n",
              "        buttonEl.style.display =\n",
              "          google.colab.kernel.accessAllowed ? 'block' : 'none';\n",
              "\n",
              "        async function convertToInteractive(key) {\n",
              "          const element = document.querySelector('#df-62124e34-f663-4b7b-800d-e043fefbc7d5');\n",
              "          const dataTable =\n",
              "            await google.colab.kernel.invokeFunction('convertToInteractive',\n",
              "                                                     [key], {});\n",
              "          if (!dataTable) return;\n",
              "\n",
              "          const docLinkHtml = 'Like what you see? Visit the ' +\n",
              "            '<a target=\"_blank\" href=https://colab.research.google.com/notebooks/data_table.ipynb>data table notebook</a>'\n",
              "            + ' to learn more about interactive tables.';\n",
              "          element.innerHTML = '';\n",
              "          dataTable['output_type'] = 'display_data';\n",
              "          await google.colab.output.renderOutput(dataTable, element);\n",
              "          const docLink = document.createElement('div');\n",
              "          docLink.innerHTML = docLinkHtml;\n",
              "          element.appendChild(docLink);\n",
              "        }\n",
              "      </script>\n",
              "    </div>\n",
              "  </div>\n",
              "  "
            ]
          },
          "metadata": {},
          "execution_count": 3
        }
      ],
      "source": [
        "url='https://drive.google.com/file/d/1Y2-FuthGBfCqKUhCyWTIt0w8danWx6vm/view?usp=sharing'\n",
        "url='https://drive.google.com/uc?id=' + url.split('/')[-2]\n",
        "df = pd.read_csv(url)\n",
        "df"
      ]
    },
    {
      "cell_type": "code",
      "execution_count": 4,
      "id": "860e44f6",
      "metadata": {
        "id": "860e44f6",
        "outputId": "e8f11b58-017b-45ba-b304-9c55cfb2ab86",
        "colab": {
          "base_uri": "https://localhost:8080/",
          "height": 424
        }
      },
      "outputs": [
        {
          "output_type": "execute_result",
          "data": {
            "text/plain": [
              "        fLength    fWidth   fSize   fConc  fConc1     fAsym   fM3Long  \\\n",
              "0       31.6036   11.7235  2.5185  0.5303  0.3773   26.2722   23.8238   \n",
              "1      162.0520  136.0310  4.0612  0.0374  0.0187  116.7410  -64.8580   \n",
              "2       23.8172    9.5728  2.3385  0.6147  0.3922   27.2107   -6.4633   \n",
              "3       75.1362   30.9205  3.1611  0.3168  0.1832   -5.5277   28.5525   \n",
              "4       51.6240   21.1502  2.9085  0.2420  0.1340   50.8761   43.1887   \n",
              "...         ...       ...     ...     ...     ...       ...       ...   \n",
              "19014   21.3846   10.9170  2.6161  0.5857  0.3934   15.2618   11.5245   \n",
              "19015   28.9452    6.7020  2.2672  0.5351  0.2784   37.0816   13.1853   \n",
              "19016   75.4455   47.5305  3.4483  0.1417  0.0549   -9.3561   41.0562   \n",
              "19017  120.5135   76.9018  3.9939  0.0944  0.0683    5.8043  -93.5224   \n",
              "19018  187.1814   53.0014  3.2093  0.2876  0.1539 -167.3125 -168.4558   \n",
              "\n",
              "       fM3Trans   fAlpha     fDist classified  \n",
              "0       -9.9574   6.3609  205.2610          g  \n",
              "1      -45.2160  76.9600  256.7880          g  \n",
              "2       -7.1513  10.4490  116.7370          g  \n",
              "3       21.8393   4.6480  356.4620          g  \n",
              "4        9.8145   3.6130  238.0980          g  \n",
              "...         ...      ...       ...        ...  \n",
              "19014    2.8766   2.4229  106.8258          h  \n",
              "19015   -2.9632  86.7975  247.4560          h  \n",
              "19016   -9.4662  30.2987  256.5166          h  \n",
              "19017  -63.8389  84.6874  408.3166          h  \n",
              "19018   31.4755  52.7310  272.3174          h  \n",
              "\n",
              "[19019 rows x 11 columns]"
            ],
            "text/html": [
              "\n",
              "  <div id=\"df-d8cc0e0a-46ce-4a02-ab0e-9441dce82daa\">\n",
              "    <div class=\"colab-df-container\">\n",
              "      <div>\n",
              "<style scoped>\n",
              "    .dataframe tbody tr th:only-of-type {\n",
              "        vertical-align: middle;\n",
              "    }\n",
              "\n",
              "    .dataframe tbody tr th {\n",
              "        vertical-align: top;\n",
              "    }\n",
              "\n",
              "    .dataframe thead th {\n",
              "        text-align: right;\n",
              "    }\n",
              "</style>\n",
              "<table border=\"1\" class=\"dataframe\">\n",
              "  <thead>\n",
              "    <tr style=\"text-align: right;\">\n",
              "      <th></th>\n",
              "      <th>fLength</th>\n",
              "      <th>fWidth</th>\n",
              "      <th>fSize</th>\n",
              "      <th>fConc</th>\n",
              "      <th>fConc1</th>\n",
              "      <th>fAsym</th>\n",
              "      <th>fM3Long</th>\n",
              "      <th>fM3Trans</th>\n",
              "      <th>fAlpha</th>\n",
              "      <th>fDist</th>\n",
              "      <th>classified</th>\n",
              "    </tr>\n",
              "  </thead>\n",
              "  <tbody>\n",
              "    <tr>\n",
              "      <th>0</th>\n",
              "      <td>31.6036</td>\n",
              "      <td>11.7235</td>\n",
              "      <td>2.5185</td>\n",
              "      <td>0.5303</td>\n",
              "      <td>0.3773</td>\n",
              "      <td>26.2722</td>\n",
              "      <td>23.8238</td>\n",
              "      <td>-9.9574</td>\n",
              "      <td>6.3609</td>\n",
              "      <td>205.2610</td>\n",
              "      <td>g</td>\n",
              "    </tr>\n",
              "    <tr>\n",
              "      <th>1</th>\n",
              "      <td>162.0520</td>\n",
              "      <td>136.0310</td>\n",
              "      <td>4.0612</td>\n",
              "      <td>0.0374</td>\n",
              "      <td>0.0187</td>\n",
              "      <td>116.7410</td>\n",
              "      <td>-64.8580</td>\n",
              "      <td>-45.2160</td>\n",
              "      <td>76.9600</td>\n",
              "      <td>256.7880</td>\n",
              "      <td>g</td>\n",
              "    </tr>\n",
              "    <tr>\n",
              "      <th>2</th>\n",
              "      <td>23.8172</td>\n",
              "      <td>9.5728</td>\n",
              "      <td>2.3385</td>\n",
              "      <td>0.6147</td>\n",
              "      <td>0.3922</td>\n",
              "      <td>27.2107</td>\n",
              "      <td>-6.4633</td>\n",
              "      <td>-7.1513</td>\n",
              "      <td>10.4490</td>\n",
              "      <td>116.7370</td>\n",
              "      <td>g</td>\n",
              "    </tr>\n",
              "    <tr>\n",
              "      <th>3</th>\n",
              "      <td>75.1362</td>\n",
              "      <td>30.9205</td>\n",
              "      <td>3.1611</td>\n",
              "      <td>0.3168</td>\n",
              "      <td>0.1832</td>\n",
              "      <td>-5.5277</td>\n",
              "      <td>28.5525</td>\n",
              "      <td>21.8393</td>\n",
              "      <td>4.6480</td>\n",
              "      <td>356.4620</td>\n",
              "      <td>g</td>\n",
              "    </tr>\n",
              "    <tr>\n",
              "      <th>4</th>\n",
              "      <td>51.6240</td>\n",
              "      <td>21.1502</td>\n",
              "      <td>2.9085</td>\n",
              "      <td>0.2420</td>\n",
              "      <td>0.1340</td>\n",
              "      <td>50.8761</td>\n",
              "      <td>43.1887</td>\n",
              "      <td>9.8145</td>\n",
              "      <td>3.6130</td>\n",
              "      <td>238.0980</td>\n",
              "      <td>g</td>\n",
              "    </tr>\n",
              "    <tr>\n",
              "      <th>...</th>\n",
              "      <td>...</td>\n",
              "      <td>...</td>\n",
              "      <td>...</td>\n",
              "      <td>...</td>\n",
              "      <td>...</td>\n",
              "      <td>...</td>\n",
              "      <td>...</td>\n",
              "      <td>...</td>\n",
              "      <td>...</td>\n",
              "      <td>...</td>\n",
              "      <td>...</td>\n",
              "    </tr>\n",
              "    <tr>\n",
              "      <th>19014</th>\n",
              "      <td>21.3846</td>\n",
              "      <td>10.9170</td>\n",
              "      <td>2.6161</td>\n",
              "      <td>0.5857</td>\n",
              "      <td>0.3934</td>\n",
              "      <td>15.2618</td>\n",
              "      <td>11.5245</td>\n",
              "      <td>2.8766</td>\n",
              "      <td>2.4229</td>\n",
              "      <td>106.8258</td>\n",
              "      <td>h</td>\n",
              "    </tr>\n",
              "    <tr>\n",
              "      <th>19015</th>\n",
              "      <td>28.9452</td>\n",
              "      <td>6.7020</td>\n",
              "      <td>2.2672</td>\n",
              "      <td>0.5351</td>\n",
              "      <td>0.2784</td>\n",
              "      <td>37.0816</td>\n",
              "      <td>13.1853</td>\n",
              "      <td>-2.9632</td>\n",
              "      <td>86.7975</td>\n",
              "      <td>247.4560</td>\n",
              "      <td>h</td>\n",
              "    </tr>\n",
              "    <tr>\n",
              "      <th>19016</th>\n",
              "      <td>75.4455</td>\n",
              "      <td>47.5305</td>\n",
              "      <td>3.4483</td>\n",
              "      <td>0.1417</td>\n",
              "      <td>0.0549</td>\n",
              "      <td>-9.3561</td>\n",
              "      <td>41.0562</td>\n",
              "      <td>-9.4662</td>\n",
              "      <td>30.2987</td>\n",
              "      <td>256.5166</td>\n",
              "      <td>h</td>\n",
              "    </tr>\n",
              "    <tr>\n",
              "      <th>19017</th>\n",
              "      <td>120.5135</td>\n",
              "      <td>76.9018</td>\n",
              "      <td>3.9939</td>\n",
              "      <td>0.0944</td>\n",
              "      <td>0.0683</td>\n",
              "      <td>5.8043</td>\n",
              "      <td>-93.5224</td>\n",
              "      <td>-63.8389</td>\n",
              "      <td>84.6874</td>\n",
              "      <td>408.3166</td>\n",
              "      <td>h</td>\n",
              "    </tr>\n",
              "    <tr>\n",
              "      <th>19018</th>\n",
              "      <td>187.1814</td>\n",
              "      <td>53.0014</td>\n",
              "      <td>3.2093</td>\n",
              "      <td>0.2876</td>\n",
              "      <td>0.1539</td>\n",
              "      <td>-167.3125</td>\n",
              "      <td>-168.4558</td>\n",
              "      <td>31.4755</td>\n",
              "      <td>52.7310</td>\n",
              "      <td>272.3174</td>\n",
              "      <td>h</td>\n",
              "    </tr>\n",
              "  </tbody>\n",
              "</table>\n",
              "<p>19019 rows × 11 columns</p>\n",
              "</div>\n",
              "      <button class=\"colab-df-convert\" onclick=\"convertToInteractive('df-d8cc0e0a-46ce-4a02-ab0e-9441dce82daa')\"\n",
              "              title=\"Convert this dataframe to an interactive table.\"\n",
              "              style=\"display:none;\">\n",
              "        \n",
              "  <svg xmlns=\"http://www.w3.org/2000/svg\" height=\"24px\"viewBox=\"0 0 24 24\"\n",
              "       width=\"24px\">\n",
              "    <path d=\"M0 0h24v24H0V0z\" fill=\"none\"/>\n",
              "    <path d=\"M18.56 5.44l.94 2.06.94-2.06 2.06-.94-2.06-.94-.94-2.06-.94 2.06-2.06.94zm-11 1L8.5 8.5l.94-2.06 2.06-.94-2.06-.94L8.5 2.5l-.94 2.06-2.06.94zm10 10l.94 2.06.94-2.06 2.06-.94-2.06-.94-.94-2.06-.94 2.06-2.06.94z\"/><path d=\"M17.41 7.96l-1.37-1.37c-.4-.4-.92-.59-1.43-.59-.52 0-1.04.2-1.43.59L10.3 9.45l-7.72 7.72c-.78.78-.78 2.05 0 2.83L4 21.41c.39.39.9.59 1.41.59.51 0 1.02-.2 1.41-.59l7.78-7.78 2.81-2.81c.8-.78.8-2.07 0-2.86zM5.41 20L4 18.59l7.72-7.72 1.47 1.35L5.41 20z\"/>\n",
              "  </svg>\n",
              "      </button>\n",
              "      \n",
              "  <style>\n",
              "    .colab-df-container {\n",
              "      display:flex;\n",
              "      flex-wrap:wrap;\n",
              "      gap: 12px;\n",
              "    }\n",
              "\n",
              "    .colab-df-convert {\n",
              "      background-color: #E8F0FE;\n",
              "      border: none;\n",
              "      border-radius: 50%;\n",
              "      cursor: pointer;\n",
              "      display: none;\n",
              "      fill: #1967D2;\n",
              "      height: 32px;\n",
              "      padding: 0 0 0 0;\n",
              "      width: 32px;\n",
              "    }\n",
              "\n",
              "    .colab-df-convert:hover {\n",
              "      background-color: #E2EBFA;\n",
              "      box-shadow: 0px 1px 2px rgba(60, 64, 67, 0.3), 0px 1px 3px 1px rgba(60, 64, 67, 0.15);\n",
              "      fill: #174EA6;\n",
              "    }\n",
              "\n",
              "    [theme=dark] .colab-df-convert {\n",
              "      background-color: #3B4455;\n",
              "      fill: #D2E3FC;\n",
              "    }\n",
              "\n",
              "    [theme=dark] .colab-df-convert:hover {\n",
              "      background-color: #434B5C;\n",
              "      box-shadow: 0px 1px 3px 1px rgba(0, 0, 0, 0.15);\n",
              "      filter: drop-shadow(0px 1px 2px rgba(0, 0, 0, 0.3));\n",
              "      fill: #FFFFFF;\n",
              "    }\n",
              "  </style>\n",
              "\n",
              "      <script>\n",
              "        const buttonEl =\n",
              "          document.querySelector('#df-d8cc0e0a-46ce-4a02-ab0e-9441dce82daa button.colab-df-convert');\n",
              "        buttonEl.style.display =\n",
              "          google.colab.kernel.accessAllowed ? 'block' : 'none';\n",
              "\n",
              "        async function convertToInteractive(key) {\n",
              "          const element = document.querySelector('#df-d8cc0e0a-46ce-4a02-ab0e-9441dce82daa');\n",
              "          const dataTable =\n",
              "            await google.colab.kernel.invokeFunction('convertToInteractive',\n",
              "                                                     [key], {});\n",
              "          if (!dataTable) return;\n",
              "\n",
              "          const docLinkHtml = 'Like what you see? Visit the ' +\n",
              "            '<a target=\"_blank\" href=https://colab.research.google.com/notebooks/data_table.ipynb>data table notebook</a>'\n",
              "            + ' to learn more about interactive tables.';\n",
              "          element.innerHTML = '';\n",
              "          dataTable['output_type'] = 'display_data';\n",
              "          await google.colab.output.renderOutput(dataTable, element);\n",
              "          const docLink = document.createElement('div');\n",
              "          docLink.innerHTML = docLinkHtml;\n",
              "          element.appendChild(docLink);\n",
              "        }\n",
              "      </script>\n",
              "    </div>\n",
              "  </div>\n",
              "  "
            ]
          },
          "metadata": {},
          "execution_count": 4
        }
      ],
      "source": [
        "df.columns = ['fLength',\n",
        "              'fWidth',\n",
        "              'fSize',\n",
        "              'fConc',\n",
        "              'fConc1', \n",
        "              'fAsym',\n",
        "              'fM3Long',\n",
        "              'fM3Trans',\n",
        "              'fAlpha',\n",
        "              'fDist',\n",
        "              'classified']\n",
        "df"
      ]
    },
    {
      "cell_type": "code",
      "execution_count": 5,
      "id": "d5b2c646",
      "metadata": {
        "id": "d5b2c646",
        "outputId": "47e8c8f2-ebed-4955-a67c-e23967844247",
        "colab": {
          "base_uri": "https://localhost:8080/",
          "height": 353
        }
      },
      "outputs": [
        {
          "output_type": "stream",
          "name": "stdout",
          "text": [
            "g    12331\n",
            "h     6688\n",
            "Name: classified, dtype: int64\n"
          ]
        },
        {
          "output_type": "execute_result",
          "data": {
            "text/plain": [
              "            fLength        fWidth         fSize         fConc        fConc1  \\\n",
              "count  19019.000000  19019.000000  19019.000000  19019.000000  19019.000000   \n",
              "mean      53.251440     22.181291      2.825026      0.380326      0.214658   \n",
              "std       42.365598     18.346484      0.472609      0.182818      0.110514   \n",
              "min        4.283500      0.000000      1.941300      0.013100      0.000300   \n",
              "25%       24.336000     11.863700      2.477100      0.235800      0.128450   \n",
              "50%       37.149000     17.140600      2.739600      0.354100      0.196500   \n",
              "75%       70.126850     24.739950      3.101600      0.503700      0.285250   \n",
              "max      334.177000    256.382000      5.323300      0.893000      0.675200   \n",
              "\n",
              "              fAsym       fM3Long      fM3Trans        fAlpha         fDist  \n",
              "count  19019.000000  19019.000000  19019.000000  19019.000000  19019.000000  \n",
              "mean      -4.333429     10.544942      0.250170     27.645052    193.823912  \n",
              "std       59.207163     51.001391     20.827896     26.104151     74.729344  \n",
              "min     -457.916100   -331.780000   -205.894700      0.000000      1.282600  \n",
              "25%      -20.588300    -12.845050    -10.849750      5.546950    142.499000  \n",
              "50%        4.011900     15.309400      0.689800     17.677000    191.856900  \n",
              "75%       24.060350     35.844100     10.947050     45.884100    240.564550  \n",
              "max      575.240700    238.321000    179.851000     90.000000    495.561000  "
            ],
            "text/html": [
              "\n",
              "  <div id=\"df-5c397604-a4a6-419c-8e03-8449225428f9\">\n",
              "    <div class=\"colab-df-container\">\n",
              "      <div>\n",
              "<style scoped>\n",
              "    .dataframe tbody tr th:only-of-type {\n",
              "        vertical-align: middle;\n",
              "    }\n",
              "\n",
              "    .dataframe tbody tr th {\n",
              "        vertical-align: top;\n",
              "    }\n",
              "\n",
              "    .dataframe thead th {\n",
              "        text-align: right;\n",
              "    }\n",
              "</style>\n",
              "<table border=\"1\" class=\"dataframe\">\n",
              "  <thead>\n",
              "    <tr style=\"text-align: right;\">\n",
              "      <th></th>\n",
              "      <th>fLength</th>\n",
              "      <th>fWidth</th>\n",
              "      <th>fSize</th>\n",
              "      <th>fConc</th>\n",
              "      <th>fConc1</th>\n",
              "      <th>fAsym</th>\n",
              "      <th>fM3Long</th>\n",
              "      <th>fM3Trans</th>\n",
              "      <th>fAlpha</th>\n",
              "      <th>fDist</th>\n",
              "    </tr>\n",
              "  </thead>\n",
              "  <tbody>\n",
              "    <tr>\n",
              "      <th>count</th>\n",
              "      <td>19019.000000</td>\n",
              "      <td>19019.000000</td>\n",
              "      <td>19019.000000</td>\n",
              "      <td>19019.000000</td>\n",
              "      <td>19019.000000</td>\n",
              "      <td>19019.000000</td>\n",
              "      <td>19019.000000</td>\n",
              "      <td>19019.000000</td>\n",
              "      <td>19019.000000</td>\n",
              "      <td>19019.000000</td>\n",
              "    </tr>\n",
              "    <tr>\n",
              "      <th>mean</th>\n",
              "      <td>53.251440</td>\n",
              "      <td>22.181291</td>\n",
              "      <td>2.825026</td>\n",
              "      <td>0.380326</td>\n",
              "      <td>0.214658</td>\n",
              "      <td>-4.333429</td>\n",
              "      <td>10.544942</td>\n",
              "      <td>0.250170</td>\n",
              "      <td>27.645052</td>\n",
              "      <td>193.823912</td>\n",
              "    </tr>\n",
              "    <tr>\n",
              "      <th>std</th>\n",
              "      <td>42.365598</td>\n",
              "      <td>18.346484</td>\n",
              "      <td>0.472609</td>\n",
              "      <td>0.182818</td>\n",
              "      <td>0.110514</td>\n",
              "      <td>59.207163</td>\n",
              "      <td>51.001391</td>\n",
              "      <td>20.827896</td>\n",
              "      <td>26.104151</td>\n",
              "      <td>74.729344</td>\n",
              "    </tr>\n",
              "    <tr>\n",
              "      <th>min</th>\n",
              "      <td>4.283500</td>\n",
              "      <td>0.000000</td>\n",
              "      <td>1.941300</td>\n",
              "      <td>0.013100</td>\n",
              "      <td>0.000300</td>\n",
              "      <td>-457.916100</td>\n",
              "      <td>-331.780000</td>\n",
              "      <td>-205.894700</td>\n",
              "      <td>0.000000</td>\n",
              "      <td>1.282600</td>\n",
              "    </tr>\n",
              "    <tr>\n",
              "      <th>25%</th>\n",
              "      <td>24.336000</td>\n",
              "      <td>11.863700</td>\n",
              "      <td>2.477100</td>\n",
              "      <td>0.235800</td>\n",
              "      <td>0.128450</td>\n",
              "      <td>-20.588300</td>\n",
              "      <td>-12.845050</td>\n",
              "      <td>-10.849750</td>\n",
              "      <td>5.546950</td>\n",
              "      <td>142.499000</td>\n",
              "    </tr>\n",
              "    <tr>\n",
              "      <th>50%</th>\n",
              "      <td>37.149000</td>\n",
              "      <td>17.140600</td>\n",
              "      <td>2.739600</td>\n",
              "      <td>0.354100</td>\n",
              "      <td>0.196500</td>\n",
              "      <td>4.011900</td>\n",
              "      <td>15.309400</td>\n",
              "      <td>0.689800</td>\n",
              "      <td>17.677000</td>\n",
              "      <td>191.856900</td>\n",
              "    </tr>\n",
              "    <tr>\n",
              "      <th>75%</th>\n",
              "      <td>70.126850</td>\n",
              "      <td>24.739950</td>\n",
              "      <td>3.101600</td>\n",
              "      <td>0.503700</td>\n",
              "      <td>0.285250</td>\n",
              "      <td>24.060350</td>\n",
              "      <td>35.844100</td>\n",
              "      <td>10.947050</td>\n",
              "      <td>45.884100</td>\n",
              "      <td>240.564550</td>\n",
              "    </tr>\n",
              "    <tr>\n",
              "      <th>max</th>\n",
              "      <td>334.177000</td>\n",
              "      <td>256.382000</td>\n",
              "      <td>5.323300</td>\n",
              "      <td>0.893000</td>\n",
              "      <td>0.675200</td>\n",
              "      <td>575.240700</td>\n",
              "      <td>238.321000</td>\n",
              "      <td>179.851000</td>\n",
              "      <td>90.000000</td>\n",
              "      <td>495.561000</td>\n",
              "    </tr>\n",
              "  </tbody>\n",
              "</table>\n",
              "</div>\n",
              "      <button class=\"colab-df-convert\" onclick=\"convertToInteractive('df-5c397604-a4a6-419c-8e03-8449225428f9')\"\n",
              "              title=\"Convert this dataframe to an interactive table.\"\n",
              "              style=\"display:none;\">\n",
              "        \n",
              "  <svg xmlns=\"http://www.w3.org/2000/svg\" height=\"24px\"viewBox=\"0 0 24 24\"\n",
              "       width=\"24px\">\n",
              "    <path d=\"M0 0h24v24H0V0z\" fill=\"none\"/>\n",
              "    <path d=\"M18.56 5.44l.94 2.06.94-2.06 2.06-.94-2.06-.94-.94-2.06-.94 2.06-2.06.94zm-11 1L8.5 8.5l.94-2.06 2.06-.94-2.06-.94L8.5 2.5l-.94 2.06-2.06.94zm10 10l.94 2.06.94-2.06 2.06-.94-2.06-.94-.94-2.06-.94 2.06-2.06.94z\"/><path d=\"M17.41 7.96l-1.37-1.37c-.4-.4-.92-.59-1.43-.59-.52 0-1.04.2-1.43.59L10.3 9.45l-7.72 7.72c-.78.78-.78 2.05 0 2.83L4 21.41c.39.39.9.59 1.41.59.51 0 1.02-.2 1.41-.59l7.78-7.78 2.81-2.81c.8-.78.8-2.07 0-2.86zM5.41 20L4 18.59l7.72-7.72 1.47 1.35L5.41 20z\"/>\n",
              "  </svg>\n",
              "      </button>\n",
              "      \n",
              "  <style>\n",
              "    .colab-df-container {\n",
              "      display:flex;\n",
              "      flex-wrap:wrap;\n",
              "      gap: 12px;\n",
              "    }\n",
              "\n",
              "    .colab-df-convert {\n",
              "      background-color: #E8F0FE;\n",
              "      border: none;\n",
              "      border-radius: 50%;\n",
              "      cursor: pointer;\n",
              "      display: none;\n",
              "      fill: #1967D2;\n",
              "      height: 32px;\n",
              "      padding: 0 0 0 0;\n",
              "      width: 32px;\n",
              "    }\n",
              "\n",
              "    .colab-df-convert:hover {\n",
              "      background-color: #E2EBFA;\n",
              "      box-shadow: 0px 1px 2px rgba(60, 64, 67, 0.3), 0px 1px 3px 1px rgba(60, 64, 67, 0.15);\n",
              "      fill: #174EA6;\n",
              "    }\n",
              "\n",
              "    [theme=dark] .colab-df-convert {\n",
              "      background-color: #3B4455;\n",
              "      fill: #D2E3FC;\n",
              "    }\n",
              "\n",
              "    [theme=dark] .colab-df-convert:hover {\n",
              "      background-color: #434B5C;\n",
              "      box-shadow: 0px 1px 3px 1px rgba(0, 0, 0, 0.15);\n",
              "      filter: drop-shadow(0px 1px 2px rgba(0, 0, 0, 0.3));\n",
              "      fill: #FFFFFF;\n",
              "    }\n",
              "  </style>\n",
              "\n",
              "      <script>\n",
              "        const buttonEl =\n",
              "          document.querySelector('#df-5c397604-a4a6-419c-8e03-8449225428f9 button.colab-df-convert');\n",
              "        buttonEl.style.display =\n",
              "          google.colab.kernel.accessAllowed ? 'block' : 'none';\n",
              "\n",
              "        async function convertToInteractive(key) {\n",
              "          const element = document.querySelector('#df-5c397604-a4a6-419c-8e03-8449225428f9');\n",
              "          const dataTable =\n",
              "            await google.colab.kernel.invokeFunction('convertToInteractive',\n",
              "                                                     [key], {});\n",
              "          if (!dataTable) return;\n",
              "\n",
              "          const docLinkHtml = 'Like what you see? Visit the ' +\n",
              "            '<a target=\"_blank\" href=https://colab.research.google.com/notebooks/data_table.ipynb>data table notebook</a>'\n",
              "            + ' to learn more about interactive tables.';\n",
              "          element.innerHTML = '';\n",
              "          dataTable['output_type'] = 'display_data';\n",
              "          await google.colab.output.renderOutput(dataTable, element);\n",
              "          const docLink = document.createElement('div');\n",
              "          docLink.innerHTML = docLinkHtml;\n",
              "          element.appendChild(docLink);\n",
              "        }\n",
              "      </script>\n",
              "    </div>\n",
              "  </div>\n",
              "  "
            ]
          },
          "metadata": {},
          "execution_count": 5
        }
      ],
      "source": [
        "print(df['classified'].value_counts())\n",
        "df.describe()"
      ]
    },
    {
      "cell_type": "code",
      "execution_count": 6,
      "id": "55ce4b99",
      "metadata": {
        "id": "55ce4b99",
        "outputId": "b8344b51-dc8a-45db-cb32-1ae41d0acf0e",
        "colab": {
          "base_uri": "https://localhost:8080/"
        }
      },
      "outputs": [
        {
          "output_type": "execute_result",
          "data": {
            "text/plain": [
              "g    6688\n",
              "h    6688\n",
              "Name: classified, dtype: int64"
            ]
          },
          "metadata": {},
          "execution_count": 6
        }
      ],
      "source": [
        "df = df.groupby('classified')\n",
        "df = df.apply(lambda x: x.sample(df.size().min()).reset_index(drop=True))\n",
        "df['classified'].value_counts()"
      ]
    },
    {
      "cell_type": "code",
      "execution_count": 7,
      "id": "88becf90",
      "metadata": {
        "id": "88becf90",
        "outputId": "1d9138bf-5d65-4fb0-c92e-466b9f9737c7",
        "colab": {
          "base_uri": "https://localhost:8080/"
        }
      },
      "outputs": [
        {
          "output_type": "stream",
          "name": "stdout",
          "text": [
            "train samples = 9363 \n",
            "test samples = 4013 \n",
            "total = 13376\n"
          ]
        }
      ],
      "source": [
        "test = df.sample(frac=0.3)\n",
        "train = df.copy().drop(test.index)\n",
        "\n",
        "print('train samples =', train.shape[0],\n",
        "      '\\ntest samples =', test.shape[0],\n",
        "      '\\ntotal =', train.shape[0] + test.shape[0])\n",
        "\n",
        "new_idx = [t[1] for t in test.index]\n",
        "test = test.set_index(pd.Series(new_idx))"
      ]
    },
    {
      "cell_type": "code",
      "execution_count": 8,
      "id": "859a6bcf",
      "metadata": {
        "id": "859a6bcf"
      },
      "outputs": [],
      "source": [
        "Y = train['classified']\n",
        "X = train.drop('classified', axis=1)"
      ]
    },
    {
      "cell_type": "code",
      "execution_count": 9,
      "id": "78da7fea",
      "metadata": {
        "id": "78da7fea",
        "outputId": "cdb10007-4af7-4c0d-a0e9-da402c94ab22",
        "colab": {
          "base_uri": "https://localhost:8080/"
        }
      },
      "outputs": [
        {
          "output_type": "execute_result",
          "data": {
            "text/plain": [
              "h    2014\n",
              "g    1999\n",
              "Name: classified, dtype: int64"
            ]
          },
          "metadata": {},
          "execution_count": 9
        }
      ],
      "source": [
        "x_test = test.copy()\n",
        "y_test = x_test.pop('classified')\n",
        "y_test.value_counts()"
      ]
    },
    {
      "cell_type": "code",
      "execution_count": 10,
      "id": "bc9a5f84",
      "metadata": {
        "id": "bc9a5f84",
        "outputId": "1135fa0b-fadf-4d0c-aa4a-67dcdee6c757",
        "colab": {
          "base_uri": "https://localhost:8080/"
        }
      },
      "outputs": [
        {
          "output_type": "stream",
          "name": "stdout",
          "text": [
            "g    0.350553\n",
            "h    0.349432\n",
            "Name: classified, dtype: float64\n",
            "h    0.150568\n",
            "g    0.149447\n",
            "Name: classified, dtype: float64\n"
          ]
        }
      ],
      "source": [
        "print(Y.value_counts()/(df['classified'].shape))\n",
        "print(y_test.value_counts()/(df['classified'].shape))"
      ]
    },
    {
      "cell_type": "code",
      "execution_count": null,
      "id": "16910860",
      "metadata": {
        "id": "16910860"
      },
      "outputs": [],
      "source": [
        "def cross_validation(estimator, X, y):\n",
        "    scoring = ['precision_macro',\n",
        "               'recall_macro',\n",
        "               'f1_macro',\n",
        "               'accuracy']\n",
        "    \n",
        "    # docs: https://scikit-learn.org/stable/modules/generated/sklearn.model_selection.cross_validate.html\n",
        "\n",
        "    scores = cross_validate(estimator, X, y, scoring=scoring, n_jobs=-1, return_estimator=True,return_train_score=True,error_score='raise')\n",
        "    # print (scores)\n",
        "    # plt.figure(figsize=(30, 20))\n",
        "    # plt.rcParams['font.size'] = '30'\n",
        "    # plt.plot(scores['test_precision_macro'], label='precision')\n",
        "    # plt.plot(scores['test_recall_macro'], label='recall')\n",
        "    # plt.plot(scores['test_f1_macro'], label='F1 score')\n",
        "    # plt.plot(scores['test_accuracy'], label='accuracy')\n",
        "    # plt.legend()\n",
        "    # plt.show()\n",
        "    \n",
        "\n",
        "    # for i, est in enumerate(scores['estimator']):\n",
        "    #     predictions = est.predict(X)\n",
        "    #     labels = est.classes_\n",
        "    #     cm = confusion_matrix(y, predictions, labels=labels)\n",
        "    #     disp = ConfusionMatrixDisplay(confusion_matrix=cm,\n",
        "    #                                   display_labels=labels)\n",
        "    #     # disp.plot()\n",
        "        \n",
        "\n",
        "    return scores\n",
        "    "
      ]
    },
    {
      "cell_type": "code",
      "execution_count": null,
      "id": "d3c184c7",
      "metadata": {
        "id": "d3c184c7"
      },
      "outputs": [],
      "source": [
        "ACCURACY = \"test_accuracy\"\n",
        "PRECISION = \"test_precision_macro\"\n",
        "RECALL = \"test_recall_macro\"\n",
        "F1 = \"test_f1_macro\"\n",
        "\n",
        "def avg(arr):\n",
        "    return sum(arr)/len(arr)\n",
        "\n",
        "def disp_avg_scores(scores):\n",
        "    print(\"Average scores:\\n\")\n",
        "    print(f\"Accuracy = {avg(scores[ACCURACY])}\")\n",
        "    print(f\"Precision = {avg(scores[PRECISION])}\")\n",
        "    print(f\"Recall = {avg(scores[RECALL])}\")\n",
        "    print(f\"F1 score = {avg(scores[F1])}\")\n",
        "\n"
      ]
    },
    {
      "cell_type": "code",
      "execution_count": null,
      "id": "5a692273",
      "metadata": {
        "id": "5a692273",
        "outputId": "f4a2d81f-c176-4521-e707-23af7eefcb28"
      },
      "outputs": [
        {
          "name": "stdout",
          "output_type": "stream",
          "text": [
            "Average scores:\n",
            "\n",
            "Accuracy = 0.7877812686808949\n",
            "Precision = 0.7878185165560619\n",
            "Recall = 0.7877757399925465\n",
            "F1 score = 0.7877717478059679\n"
          ]
        }
      ],
      "source": [
        "decision_tree = DecisionTreeClassifier()\n",
        "estimators =  cross_validation(decision_tree, X, Y)\n",
        "disp_avg_scores(estimators)"
      ]
    },
    {
      "cell_type": "code",
      "execution_count": 11,
      "id": "ffea87ff",
      "metadata": {
        "id": "ffea87ff"
      },
      "outputs": [],
      "source": [
        "DISPLAY_LABELS = ['g','h']\n",
        "POS_LABEL = 'g'\n",
        "\n",
        "def disp_scores(y_true,y_pred,pos_label = POS_LABEL,display_labels = DISPLAY_LABELS):\n",
        "    ConfusionMatrixDisplay( confusion_matrix(y_true,y_pred),display_labels=display_labels).plot()\n",
        "    print(\"Accuracy =\",accuracy_score(y_true,y_pred))\n",
        "    print(\"Precision =\",precision_score(y_true,y_pred,pos_label=pos_label))\n",
        "    print(\"Recall =\",recall_score(y_true,y_pred,pos_label=pos_label))\n",
        "    print(\"F1 =\",f1_score(y_true,y_pred,pos_label=pos_label))\n"
      ]
    },
    {
      "cell_type": "code",
      "execution_count": null,
      "id": "3b4faa6b",
      "metadata": {
        "id": "3b4faa6b",
        "outputId": "e873fd95-015d-44a2-f648-b2e8cfff886b"
      },
      "outputs": [
        {
          "name": "stdout",
          "output_type": "stream",
          "text": [
            "Scores on the test set :\n",
            "Accuracy = 0.7886867680039871\n",
            "Precision = 0.7869094488188977\n",
            "Recall = 0.7939424031777557\n",
            "F1 = 0.7904102817597628\n"
          ]
        },
        {
          "data": {
            "image/png": "[encoded data removed]",
            "text/plain": [
              "<Figure size 432x288 with 2 Axes>"
            ]
          },
          "metadata": {
            "needs_background": "light"
          },
          "output_type": "display_data"
        }
      ],
      "source": [
        "# scores of estimator on test set\n",
        "decision_tree.fit(X,Y)\n",
        "y_pred = decision_tree.predict(x_test)\n",
        "print(\"Scores on the test set :\")\n",
        "disp_scores(y_test,y_pred)\n"
      ]
    },
    {
      "cell_type": "code",
      "execution_count": 12,
      "id": "9294e1ad",
      "metadata": {
        "id": "9294e1ad"
      },
      "outputs": [],
      "source": [
        "# no of samples = 13376 samples\n",
        "\n",
        "# choose an n, cross validate and store avg\n",
        "METRIC_KEYS = [\"accuracy\",\"precision\",\"recall\",\"f1\"]\n",
        "\n",
        "def avg_scores_arr(scores):\n",
        "    return {\"accuracy\":avg(scores[ACCURACY]),\"precision\": avg(scores[PRECISION]),\"recall\":avg(scores[RECALL]),\"f1\":avg(scores[F1])}"
      ]
    },
    {
      "cell_type": "code",
      "execution_count": 13,
      "id": "39eba29f",
      "metadata": {
        "id": "39eba29f",
        "outputId": "7681d700-9474-49d1-db2b-91e78bb2418f",
        "colab": {
          "base_uri": "https://localhost:8080/"
        }
      },
      "outputs": [
        {
          "output_type": "execute_result",
          "data": {
            "text/plain": [
              "g    4689\n",
              "h    4674\n",
              "Name: classified, dtype: int64"
            ]
          },
          "metadata": {},
          "execution_count": 13
        }
      ],
      "source": [
        "from sklearn.model_selection import StratifiedKFold\n",
        "import matplotlib.pyplot as plt\n",
        "\n",
        "new_idx = [t[1] for t in train.index]\n",
        "train = train.set_index(pd.Series(new_idx))\n",
        "\n",
        "x_train = train.copy()\n",
        "y_train = x_train.pop('classified')\n",
        "y_train.value_counts()"
      ]
    },
    {
      "cell_type": "code",
      "execution_count": 14,
      "id": "f65d55e7",
      "metadata": {
        "id": "f65d55e7"
      },
      "outputs": [],
      "source": [
        "def k_folds(features_train, labels_train, model_fit, model_pred):\n",
        "    skf = StratifiedKFold(n_splits=10, shuffle=True)\n",
        "    avg_accuracy = 0\n",
        "    for fold, (train_idx, val_idx) in enumerate(skf.split(features_train, labels_train)):\n",
        "        x_train = features_train[train_idx]\n",
        "        y_train = labels_train[train_idx]\n",
        "        x_val = features_train[val_idx]\n",
        "        y_val = labels_train[val_idx]\n",
        "        model_fit(x_train,y_train)\n",
        "        y_pred = model_pred(x_val)\n",
        "        avg_accuracy = (avg_accuracy + accuracy_score(y_val, y_pred)) / 2\n",
        "    return avg_accuracy"
      ]
    },
    {
      "cell_type": "markdown",
      "id": "30923ddb",
      "metadata": {
        "id": "30923ddb"
      },
      "source": [
        "## AdaBoost\n",
        "\n",
        "### Parameters:\n",
        "- n_estimators\n",
        "\n",
        "1. define range of estimators: max: no of samples -- too many\n",
        "2. for each n, cross validate and save the average metrics\n",
        "3. choose the n with the heighrst average\n",
        "4. test the best estimator against test dataframe."
      ]
    },
    {
      "cell_type": "code",
      "execution_count": 15,
      "id": "0a791220",
      "metadata": {
        "id": "0a791220",
        "outputId": "f745a74f-d2ed-47bf-ab63-0bc7599f40b8",
        "colab": {
          "base_uri": "https://localhost:8080/",
          "height": 478
        }
      },
      "outputs": [
        {
          "output_type": "stream",
          "name": "stdout",
          "text": [
            "n = 10, accuracy = 78.22 %, time = 4.98 s.\n",
            "n = 60, accuracy = 80.89 %, time = 16.78 s.\n",
            "n = 110, accuracy = 82.09 %, time = 25.29 s.\n",
            "n = 160, accuracy = 81.86 %, time = 36.11 s.\n",
            "n = 210, accuracy = 83.39 %, time = 49.37 s.\n",
            "n = 260, accuracy = 81.99 %, time = 58.39 s.\n",
            "n = 310, accuracy = 82.86 %, time = 69.25 s.\n",
            "n = 360, accuracy = 80.05 %, time = 80.75 s.\n",
            "n = 410, accuracy = 82.37 %, time = 91.62 s.\n",
            "n = 460, accuracy = 82.32000000000001 %, time = 103.39 s.\n",
            "n = 510, accuracy = 81.64 %, time = 114.91 s.\n",
            "max accuracy = 83.39 % at n = 210\n"
          ]
        },
        {
          "output_type": "display_data",
          "data": {
            "text/plain": [
              "<Figure size 432x288 with 1 Axes>"
            ],
            "image/png": "[encoded data removed]"
          },
          "metadata": {
            "needs_background": "light"
          }
        }
      ],
      "source": [
        "# grate search\n",
        "# n_estimators in range (10,510,100)\n",
        "\n",
        "n_estimators_arr = range(10,511,50)\n",
        "accuracy_array = [0 for _ in range(len(n_estimators_arr))]\n",
        "\n",
        "for i , n_estimators in enumerate(n_estimators_arr):\n",
        "    ada_boost = AdaBoostClassifier(n_estimators=n_estimators)\n",
        "    fit = ada_boost.fit\n",
        "    pred = ada_boost.predict\n",
        "    time = perf_counter()\n",
        "    acc = k_folds(x_train.values,y_train.values,fit,pred)\n",
        "    time = perf_counter() - time\n",
        "    accuracy_array[i] = acc\n",
        "    print(f\"n = {n_estimators}, accuracy = {round(acc,4)*100} %, time = {round(time,2)} s.\")\n",
        "\n",
        "max_acc = max(accuracy_array)\n",
        "max_idx = accuracy_array.index(max_acc)\n",
        "\n",
        "print(f\"max accuracy = {round(max_acc,4) * 100} % at n = {n_estimators_arr[max_idx]}\")\n",
        "plt.plot(n_estimators_arr, accuracy_array)\n",
        "plt.show()\n"
      ]
    },
    {
      "cell_type": "code",
      "source": [
        "# grate search\n",
        "# n_estimators in range (150,250,10)\n",
        "\n",
        "n_estimators_arr = range(150,251,10)\n",
        "accuracy_array = [0 for _ in range(len(n_estimators_arr))]\n",
        "\n",
        "for i , n_estimators in enumerate(n_estimators_arr):\n",
        "    ada_boost = AdaBoostClassifier(n_estimators=n_estimators)\n",
        "    fit = ada_boost.fit\n",
        "    pred = ada_boost.predict\n",
        "    time = perf_counter()\n",
        "    acc = k_folds(x_train.values,y_train.values,fit,pred)\n",
        "    time = perf_counter() - time\n",
        "    accuracy_array[i] = acc\n",
        "    print(f\"n = {n_estimators}, accuracy = {round(acc,4)*100} %, time = {round(time,2)} s.\")\n",
        "\n",
        "max_acc = max(accuracy_array)\n",
        "max_idx = accuracy_array.index(max_acc)\n",
        "\n",
        "print(f\"max accuracy = {round(max_acc,4) * 100} % at n = {n_estimators_arr[max_idx]}\")\n",
        "plt.plot(n_estimators_arr, accuracy_array)\n",
        "plt.show()"
      ],
      "metadata": {
        "id": "5T9b7Kb5q6Rr",
        "outputId": "ca417390-0e28-4292-80da-48b87852e6a2",
        "colab": {
          "base_uri": "https://localhost:8080/",
          "height": 478
        }
      },
      "id": "5T9b7Kb5q6Rr",
      "execution_count": 17,
      "outputs": [
        {
          "output_type": "stream",
          "name": "stdout",
          "text": [
            "n = 150, accuracy = 82.16 %, time = 34.33 s.\n",
            "n = 160, accuracy = 83.15 %, time = 36.57 s.\n",
            "n = 170, accuracy = 82.41000000000001 %, time = 39.14 s.\n",
            "n = 180, accuracy = 82.80999999999999 %, time = 41.04 s.\n",
            "n = 190, accuracy = 81.64 %, time = 43.35 s.\n",
            "n = 200, accuracy = 82.24000000000001 %, time = 47.05 s.\n",
            "n = 210, accuracy = 82.13000000000001 %, time = 48.24 s.\n",
            "n = 220, accuracy = 80.7 %, time = 50.3 s.\n",
            "n = 230, accuracy = 83.05 %, time = 51.83 s.\n",
            "n = 240, accuracy = 83.17999999999999 %, time = 54.86 s.\n",
            "n = 250, accuracy = 81.26 %, time = 57.25 s.\n",
            "max accuracy = 83.17999999999999 % at n = 240\n"
          ]
        },
        {
          "output_type": "display_data",
          "data": {
            "text/plain": [
              "<Figure size 432x288 with 1 Axes>"
            ],
            "image/png": "[encoded data removed]"
          },
          "metadata": {
            "needs_background": "light"
          }
        }
      ]
    },
    {
      "cell_type": "code",
      "source": [
        "n_estimators_arr = list(range(150,171,5)) + list(range(230,251,5))\n",
        "accuracy_array = [0 for _ in range(len(n_estimators_arr))]\n",
        "n_estimators_arr"
      ],
      "metadata": {
        "id": "f8DqG2wNt1Li",
        "outputId": "55653d11-0009-4a2f-db83-8bd88221e149",
        "colab": {
          "base_uri": "https://localhost:8080/"
        }
      },
      "id": "f8DqG2wNt1Li",
      "execution_count": 26,
      "outputs": [
        {
          "output_type": "execute_result",
          "data": {
            "text/plain": [
              "[0, 1, 2, 3, 4, 5, 6, 7, 8, 9, 0, 1, 2, 3, 4]"
            ]
          },
          "metadata": {},
          "execution_count": 26
        }
      ]
    },
    {
      "cell_type": "code",
      "source": [
        "# grate search\n",
        "# n_estimators in range (150,170,5) + (230,250,5)\n",
        "\n",
        "n_estimators_arr = list(range(150,171,5)) + list(range(230,251,5))\n",
        "accuracy_array = [0 for _ in range(len(n_estimators_arr))]\n",
        "\n",
        "for i , n_estimators in enumerate(n_estimators_arr):\n",
        "    ada_boost = AdaBoostClassifier(n_estimators=n_estimators)\n",
        "    fit = ada_boost.fit\n",
        "    pred = ada_boost.predict\n",
        "    time = perf_counter()\n",
        "    acc = k_folds(x_train.values,y_train.values,fit,pred)\n",
        "    time = perf_counter() - time\n",
        "    accuracy_array[i] = acc\n",
        "    print(f\"n = {n_estimators}, accuracy = {round(acc,4)*100} %, time = {round(time,2)} s.\")\n",
        "\n",
        "max_acc = max(accuracy_array)\n",
        "max_idx = accuracy_array.index(max_acc)\n",
        "\n",
        "print(f\"max accuracy = {round(max_acc,4) * 100} % at n = {n_estimators_arr[max_idx]}\")\n",
        "plt.plot(n_estimators_arr, accuracy_array)\n",
        "plt.show()"
      ],
      "metadata": {
        "id": "3M9_0dpotK7K",
        "outputId": "9bddc02a-b7ca-4409-fb7d-4b24f16b3a8c",
        "colab": {
          "base_uri": "https://localhost:8080/",
          "height": 460
        }
      },
      "id": "3M9_0dpotK7K",
      "execution_count": 27,
      "outputs": [
        {
          "output_type": "stream",
          "name": "stdout",
          "text": [
            "n = 150, accuracy = 82.50999999999999 %, time = 61.69 s.\n",
            "n = 155, accuracy = 81.96 %, time = 36.96 s.\n",
            "n = 160, accuracy = 82.71 %, time = 37.07 s.\n",
            "n = 165, accuracy = 81.67999999999999 %, time = 39.56 s.\n",
            "n = 170, accuracy = 82.12 %, time = 40.24 s.\n",
            "n = 230, accuracy = 82.0 %, time = 53.9 s.\n",
            "n = 235, accuracy = 83.04 %, time = 52.81 s.\n",
            "n = 240, accuracy = 82.25 %, time = 54.42 s.\n",
            "n = 245, accuracy = 82.19999999999999 %, time = 55.48 s.\n",
            "n = 250, accuracy = 82.24000000000001 %, time = 57.11 s.\n",
            "max accuracy = 83.04 % at n = 235\n"
          ]
        },
        {
          "output_type": "display_data",
          "data": {
            "text/plain": [
              "<Figure size 432x288 with 1 Axes>"
            ],
            "image/png": "[encoded data removed]"
          },
          "metadata": {
            "needs_background": "light"
          }
        }
      ]
    },
    {
      "cell_type": "code",
      "execution_count": 30,
      "id": "63938c7c",
      "metadata": {
        "id": "63938c7c",
        "outputId": "5b890165-907c-4d91-cc14-538347de02ab",
        "colab": {
          "base_uri": "https://localhost:8080/",
          "height": 350
        }
      },
      "outputs": [
        {
          "output_type": "stream",
          "name": "stdout",
          "text": [
            "Accuracy = 0.8198355345128333\n",
            "Precision = 0.8149062191510366\n",
            "Recall = 0.8259129564782391\n",
            "F1 = 0.8203726708074536\n"
          ]
        },
        {
          "output_type": "display_data",
          "data": {
            "text/plain": [
              "<Figure size 432x288 with 2 Axes>"
            ],
            "image/png": "[encoded data removed]"
          },
          "metadata": {
            "needs_background": "light"
          }
        }
      ],
      "source": [
        "ada_boost = AdaBoostClassifier(n_estimators = 235)\n",
        "# TODO: execute only after tuning n_estimators\n",
        "ada_boost.fit(x_train,y_train)\n",
        "y_pred_ada_boost = ada_boost.predict(x_test)\n",
        "disp_scores(y_test,y_pred_ada_boost)"
      ]
    },
    {
      "cell_type": "markdown",
      "id": "8da04228",
      "metadata": {
        "id": "8da04228"
      },
      "source": [
        "## KNN CClassifier\n",
        "\n",
        "Parameters: k"
      ]
    },
    {
      "cell_type": "code",
      "execution_count": 33,
      "id": "43077668",
      "metadata": {
        "id": "43077668",
        "outputId": "a1d09153-ac29-43b4-a50e-1009875195d9",
        "colab": {
          "base_uri": "https://localhost:8080/",
          "height": 727
        }
      },
      "outputs": [
        {
          "output_type": "stream",
          "name": "stdout",
          "text": [
            "k = 1, accuracy = 74.53999999999999 %, time = 1.27 s.\n",
            "k = 5, accuracy = 77.16 %, time = 1.15 s.\n",
            "k = 9, accuracy = 76.84 %, time = 0.77 s.\n",
            "k = 13, accuracy = 75.92999999999999 %, time = 0.9 s.\n",
            "k = 17, accuracy = 76.62 %, time = 0.9 s.\n",
            "k = 21, accuracy = 77.69 %, time = 0.88 s.\n",
            "k = 25, accuracy = 77.94 %, time = 0.89 s.\n",
            "k = 29, accuracy = 76.55999999999999 %, time = 0.91 s.\n",
            "k = 33, accuracy = 76.5 %, time = 0.95 s.\n",
            "k = 37, accuracy = 77.75999999999999 %, time = 0.96 s.\n",
            "k = 41, accuracy = 77.47 %, time = 1.02 s.\n",
            "k = 45, accuracy = 76.34 %, time = 0.99 s.\n",
            "k = 49, accuracy = 75.37 %, time = 1.02 s.\n",
            "k = 53, accuracy = 76.23 %, time = 1.09 s.\n",
            "k = 57, accuracy = 76.72 %, time = 1.05 s.\n",
            "k = 61, accuracy = 74.49 %, time = 1.1 s.\n",
            "k = 65, accuracy = 77.03 %, time = 1.09 s.\n",
            "k = 69, accuracy = 76.11 %, time = 1.12 s.\n",
            "k = 73, accuracy = 76.07000000000001 %, time = 1.14 s.\n",
            "k = 77, accuracy = 76.05 %, time = 1.17 s.\n",
            "k = 81, accuracy = 75.09 %, time = 1.17 s.\n",
            "k = 85, accuracy = 74.39 %, time = 1.23 s.\n",
            "k = 89, accuracy = 74.42 %, time = 1.26 s.\n",
            "k = 93, accuracy = 74.98 %, time = 1.2 s.\n",
            "k = 97, accuracy = 75.71 %, time = 1.26 s.\n",
            "max accuracy = 77.94 % at n = 25\n"
          ]
        },
        {
          "output_type": "display_data",
          "data": {
            "text/plain": [
              "<Figure size 432x288 with 1 Axes>"
            ],
            "image/png": "[encoded data removed]"
          },
          "metadata": {
            "needs_background": "light"
          }
        }
      ],
      "source": [
        "# k in range (1,100,4)\n",
        "\n",
        "k_arr = range(1,101,4)\n",
        "accuracy_array = [0 for _ in range(len(k_arr))]\n",
        "\n",
        "for i , k in enumerate(k_arr):\n",
        "    knn = KNeighborsClassifier(n_neighbors=k)\n",
        "    fit = knn.fit\n",
        "    pred = knn.predict\n",
        "    time = perf_counter()\n",
        "    acc = k_folds(x_train.values,y_train.values,fit,pred)\n",
        "    time = perf_counter() - time\n",
        "    accuracy_array[i] = acc\n",
        "    print(f\"k = {k}, accuracy = {round(acc,4)*100} %, time = {round(time,2)} s.\")\n",
        "\n",
        "max_acc = max(accuracy_array)\n",
        "max_idx = accuracy_array.index(max_acc)\n",
        "\n",
        "print(f\"max accuracy = {round(max_acc,4) * 100} % at n = {k_arr[max_idx]}\")\n",
        "plt.plot(k_arr, accuracy_array)\n",
        "plt.show()\n"
      ]
    },
    {
      "cell_type": "code",
      "source": [
        "# k in range (15,45)\n",
        "\n",
        "k_arr = range(15,46)\n",
        "accuracy_array = [0 for _ in range(len(k_arr))]\n",
        "\n",
        "for i , k in enumerate(k_arr):\n",
        "    knn = KNeighborsClassifier(n_neighbors=k)\n",
        "    fit = knn.fit\n",
        "    pred = knn.predict\n",
        "    time = perf_counter()\n",
        "    acc = k_folds(x_train.values,y_train.values,fit,pred)\n",
        "    time = perf_counter() - time\n",
        "    accuracy_array[i] = acc\n",
        "    print(f\"k = {k}, accuracy = {round(acc,4)*100} %, time = {round(time,2)} s.\")\n",
        "\n",
        "max_acc = max(accuracy_array)\n",
        "max_idx = accuracy_array.index(max_acc)\n",
        "\n",
        "print(f\"max accuracy = {round(max_acc,4) * 100} % at n = {k_arr[max_idx]}\")\n",
        "plt.plot(k_arr, accuracy_array)\n",
        "plt.show()"
      ],
      "metadata": {
        "id": "e0nOdDaa43hj",
        "outputId": "8a670bbf-b1bb-4dd5-864d-8f1027cde1d9",
        "colab": {
          "base_uri": "https://localhost:8080/",
          "height": 834
        }
      },
      "id": "e0nOdDaa43hj",
      "execution_count": 34,
      "outputs": [
        {
          "output_type": "stream",
          "name": "stdout",
          "text": [
            "k = 15, accuracy = 77.29 %, time = 1.53 s.\n",
            "k = 16, accuracy = 76.38000000000001 %, time = 1.28 s.\n",
            "k = 17, accuracy = 76.63 %, time = 1.43 s.\n",
            "k = 18, accuracy = 76.06 %, time = 0.83 s.\n",
            "k = 19, accuracy = 75.79 %, time = 0.89 s.\n",
            "k = 20, accuracy = 76.19 %, time = 0.86 s.\n",
            "k = 21, accuracy = 76.14 %, time = 0.89 s.\n",
            "k = 22, accuracy = 75.97 %, time = 0.89 s.\n",
            "k = 23, accuracy = 76.37 %, time = 0.94 s.\n",
            "k = 24, accuracy = 76.2 %, time = 0.9 s.\n",
            "k = 25, accuracy = 76.77000000000001 %, time = 0.89 s.\n",
            "k = 26, accuracy = 75.9 %, time = 0.9 s.\n",
            "k = 27, accuracy = 76.7 %, time = 0.92 s.\n",
            "k = 28, accuracy = 76.2 %, time = 0.93 s.\n",
            "k = 29, accuracy = 74.72 %, time = 0.92 s.\n",
            "k = 30, accuracy = 77.28 %, time = 0.92 s.\n",
            "k = 31, accuracy = 76.92999999999999 %, time = 0.97 s.\n",
            "k = 32, accuracy = 76.97 %, time = 1.02 s.\n",
            "k = 33, accuracy = 76.96 %, time = 1.04 s.\n",
            "k = 34, accuracy = 76.14999999999999 %, time = 0.97 s.\n",
            "k = 35, accuracy = 77.99000000000001 %, time = 1.0 s.\n",
            "k = 36, accuracy = 76.32 %, time = 0.97 s.\n",
            "k = 37, accuracy = 76.16000000000001 %, time = 0.96 s.\n",
            "k = 38, accuracy = 75.9 %, time = 0.96 s.\n",
            "k = 39, accuracy = 75.96000000000001 %, time = 1.0 s.\n",
            "k = 40, accuracy = 76.99000000000001 %, time = 1.0 s.\n",
            "k = 41, accuracy = 75.98 %, time = 1.06 s.\n",
            "k = 42, accuracy = 75.87 %, time = 1.0 s.\n",
            "k = 43, accuracy = 75.59 %, time = 1.67 s.\n",
            "k = 44, accuracy = 75.79 %, time = 1.0 s.\n",
            "k = 45, accuracy = 77.10000000000001 %, time = 1.0 s.\n",
            "max accuracy = 77.99000000000001 % at n = 35\n"
          ]
        },
        {
          "output_type": "display_data",
          "data": {
            "text/plain": [
              "<Figure size 432x288 with 1 Axes>"
            ],
            "image/png": "[encoded data removed]"
          },
          "metadata": {
            "needs_background": "light"
          }
        }
      ]
    },
    {
      "cell_type": "code",
      "execution_count": 35,
      "metadata": {
        "id": "PCyHv4nbn8sP",
        "outputId": "c6f20261-46a5-4e0c-c0b9-ee6a9c24cacb",
        "colab": {
          "base_uri": "https://localhost:8080/",
          "height": 350
        }
      },
      "outputs": [
        {
          "output_type": "stream",
          "name": "stdout",
          "text": [
            "Accuracy = 0.7630201844006977\n",
            "Precision = 0.714227309893704\n",
            "Recall = 0.8739369684842421\n",
            "F1 = 0.7860517435320585\n"
          ]
        },
        {
          "output_type": "display_data",
          "data": {
            "text/plain": [
              "<Figure size 432x288 with 2 Axes>"
            ],
            "image/png": "[encoded data removed]"
          },
          "metadata": {
            "needs_background": "light"
          }
        }
      ],
      "source": [
        "# TODO: execute only after tuning n_neighbours\n",
        "\n",
        "knn = KNeighborsClassifier(n_neighbors=35)\n",
        "knn.fit(X,Y)\n",
        "y_pred_knn = knn.predict(x_test)\n",
        "disp_scores(y_test,y_pred_knn)"
      ],
      "id": "PCyHv4nbn8sP"
    },
    {
      "cell_type": "markdown",
      "id": "049380ae",
      "metadata": {
        "id": "049380ae"
      },
      "source": [
        "## Random Forest\n",
        "Parameters: n_estimators"
      ]
    },
    {
      "cell_type": "code",
      "execution_count": 36,
      "id": "c1eb9256",
      "metadata": {
        "id": "c1eb9256",
        "outputId": "950db3a8-ee22-411e-cf4e-9978a32a32cc",
        "colab": {
          "base_uri": "https://localhost:8080/",
          "height": 478
        }
      },
      "outputs": [
        {
          "output_type": "stream",
          "name": "stdout",
          "text": [
            "n = 10, accuracy = 85.27 %, time = 2.61 s.\n",
            "n = 60, accuracy = 85.26 %, time = 14.9 s.\n",
            "n = 110, accuracy = 85.82 %, time = 27.21 s.\n",
            "n = 160, accuracy = 85.22 %, time = 39.59 s.\n",
            "n = 210, accuracy = 85.72 %, time = 53.24 s.\n",
            "n = 260, accuracy = 86.27 %, time = 65.13 s.\n",
            "n = 310, accuracy = 85.42999999999999 %, time = 77.48 s.\n",
            "n = 360, accuracy = 84.98 %, time = 89.12 s.\n",
            "n = 410, accuracy = 86.52 %, time = 101.7 s.\n",
            "n = 460, accuracy = 86.14 %, time = 118.04 s.\n",
            "n = 510, accuracy = 85.92999999999999 %, time = 126.39 s.\n",
            "max accuracy = 86.52 % at n = 410\n"
          ]
        },
        {
          "output_type": "display_data",
          "data": {
            "text/plain": [
              "<Figure size 432x288 with 1 Axes>"
            ],
            "image/png": "[encoded data removed]"
          },
          "metadata": {
            "needs_background": "light"
          }
        }
      ],
      "source": [
        "# n in range (10,510,50)\n",
        "\n",
        "n_arr = range(10,511,50)\n",
        "accuracy_array = [0 for _ in range(len(n_arr))]\n",
        "\n",
        "for i , n_estimators in enumerate(n_arr):\n",
        "    random_forest = RandomForestClassifier(n_estimators=n_estimators)\n",
        "    fit =  random_forest.fit\n",
        "    pred = random_forest.predict\n",
        "    time = perf_counter()\n",
        "    acc = k_folds(x_train.values,y_train.values,fit,pred)\n",
        "    time = perf_counter() - time\n",
        "    accuracy_array[i] = acc\n",
        "    print(f\"n = {n_estimators}, accuracy = {round(acc,4)*100} %, time = {round(time,2)} s.\")\n",
        "\n",
        "max_acc = max(accuracy_array)\n",
        "max_idx = accuracy_array.index(max_acc)\n",
        "\n",
        "print(f\"max accuracy = {round(max_acc,4) * 100} % at n = {n_arr[max_idx]}\")\n",
        "plt.plot(n_arr, accuracy_array)\n",
        "plt.show()"
      ]
    },
    {
      "cell_type": "code",
      "source": [
        "# n in range (350,490,20)\n",
        "\n",
        "n_arr = range(350,491,20)\n",
        "accuracy_array = [0 for _ in range(len(n_arr))]\n",
        "\n",
        "for i , n_estimators in enumerate(n_arr):\n",
        "    random_forest = RandomForestClassifier(n_estimators=n_estimators)\n",
        "    fit =  random_forest.fit\n",
        "    pred = random_forest.predict\n",
        "    time = perf_counter()\n",
        "    acc = k_folds(x_train.values,y_train.values,fit,pred)\n",
        "    time = perf_counter() - time\n",
        "    accuracy_array[i] = acc\n",
        "    print(f\"n = {n_estimators}, accuracy = {round(acc,4)*100} %, time = {round(time,2)} s.\")\n",
        "\n",
        "max_acc = max(accuracy_array)\n",
        "max_idx = accuracy_array.index(max_acc)\n",
        "\n",
        "print(f\"max accuracy = {round(max_acc,4) * 100} % at n = {n_arr[max_idx]}\")\n",
        "plt.plot(n_arr, accuracy_array)\n",
        "plt.show()"
      ],
      "metadata": {
        "id": "2mKA2NGvBpCm",
        "outputId": "bcf48643-e779-4832-cfbe-3360fa51da10",
        "colab": {
          "base_uri": "https://localhost:8080/",
          "height": 425
        }
      },
      "id": "2mKA2NGvBpCm",
      "execution_count": 37,
      "outputs": [
        {
          "output_type": "stream",
          "name": "stdout",
          "text": [
            "n = 350, accuracy = 86.2 %, time = 87.37 s.\n",
            "n = 370, accuracy = 86.58 %, time = 94.3 s.\n",
            "n = 390, accuracy = 86.17 %, time = 98.38 s.\n",
            "n = 410, accuracy = 85.46000000000001 %, time = 102.52 s.\n",
            "n = 430, accuracy = 86.22999999999999 %, time = 107.23 s.\n",
            "n = 450, accuracy = 86.32 %, time = 111.83 s.\n",
            "n = 470, accuracy = 84.88 %, time = 116.79 s.\n",
            "n = 490, accuracy = 85.09 %, time = 121.39 s.\n",
            "max accuracy = 86.58 % at n = 370\n"
          ]
        },
        {
          "output_type": "display_data",
          "data": {
            "text/plain": [
              "<Figure size 432x288 with 1 Axes>"
            ],
            "image/png": "[encoded data removed]"
          },
          "metadata": {
            "needs_background": "light"
          }
        }
      ]
    },
    {
      "cell_type": "code",
      "source": [
        "random_forest = RandomForestClassifier(n_estimators = 370)\n",
        "random_forest.fit(X,Y)\n",
        "y_pred = random_forest.predict(x_test)\n",
        "disp_scores(y_test,y_pred)"
      ],
      "metadata": {
        "id": "jZ6LFT6dHEdJ",
        "outputId": "d0aa4369-ba55-4663-d4dd-6bd101cae68b",
        "colab": {
          "base_uri": "https://localhost:8080/",
          "height": 350
        }
      },
      "id": "jZ6LFT6dHEdJ",
      "execution_count": 40,
      "outputs": [
        {
          "output_type": "stream",
          "name": "stdout",
          "text": [
            "Accuracy = 0.8557189135310241\n",
            "Precision = 0.8387404580152672\n",
            "Recall = 0.87943971985993\n",
            "F1 = 0.8586080586080587\n"
          ]
        },
        {
          "output_type": "display_data",
          "data": {
            "text/plain": [
              "<Figure size 432x288 with 2 Axes>"
            ],
            "image/png": "[encoded data removed]"
          },
          "metadata": {
            "needs_background": "light"
          }
        }
      ]
    },
    {
      "cell_type": "markdown",
      "id": "67e9e419",
      "metadata": {
        "id": "67e9e419"
      },
      "source": [
        "## Naïve Bayes"
      ]
    },
    {
      "cell_type": "code",
      "execution_count": null,
      "id": "2b5669e8",
      "metadata": {
        "id": "2b5669e8",
        "outputId": "b25fe499-5acb-4dbd-f726-06f9f6d379be"
      },
      "outputs": [
        {
          "data": {
            "text/plain": [
              "GaussianNB()"
            ]
          },
          "execution_count": 105,
          "metadata": {},
          "output_type": "execute_result"
        }
      ],
      "source": [
        "# no of samples = 13376 samples\n",
        "\n",
        "naive_bayes = GaussianNB()\n",
        "naive_bayes.fit(X,Y)    "
      ]
    },
    {
      "cell_type": "code",
      "execution_count": null,
      "id": "9a01e320",
      "metadata": {
        "id": "9a01e320",
        "outputId": "b6a950f1-66fc-4e9a-d738-128c8792b78b"
      },
      "outputs": [
        {
          "name": "stdout",
          "output_type": "stream",
          "text": [
            "Accuracy = 0.6463992025915773\n",
            "Precision = 0.6032482598607889\n",
            "Recall = 0.89128305582762\n",
            "F1 = 0.7195097845423997\n"
          ]
        },
        {
          "data": {
            "image/png": "[encoded data removed]",
            "text/plain": [
              "<Figure size 432x288 with 2 Axes>"
            ]
          },
          "metadata": {
            "needs_background": "light"
          },
          "output_type": "display_data"
        }
      ],
      "source": [
        "# TODO: execute only after tuning n_neighbours\n",
        "\n",
        "y_pred_nb = naive_bayes.predict(x_test)\n",
        "disp_scores(y_test,y_pred_nb)"
      ]
    },
    {
      "cell_type": "markdown",
      "id": "3c43160e",
      "metadata": {
        "id": "3c43160e"
      },
      "source": [
        "## Feature scaling"
      ]
    },
    {
      "cell_type": "code",
      "execution_count": null,
      "id": "4ac6a25e",
      "metadata": {
        "id": "4ac6a25e",
        "outputId": "08fa11e5-c67c-48e4-d4f6-41164ef2ad85"
      },
      "outputs": [
        {
          "name": "stdout",
          "output_type": "stream",
          "text": [
            "            fLength        fWidth         fSize         fConc        fConc1  \\\n",
            "count  13376.000000  13376.000000  13376.000000  13376.000000  13376.000000   \n",
            "mean       0.160771      0.092437      0.266159      0.415631      0.317799   \n",
            "std        0.142590      0.081717      0.140942      0.209555      0.166259   \n",
            "min        0.000000      0.000000      0.000000      0.000000      0.000000   \n",
            "25%        0.062008      0.045853      0.164267      0.250455      0.188029   \n",
            "50%        0.103748      0.066764      0.240183      0.388055      0.291896   \n",
            "75%        0.218209      0.101941      0.348174      0.558615      0.424224   \n",
            "max        1.000000      1.000000      1.000000      1.000000      1.000000   \n",
            "\n",
            "              fAsym       fM3Long      fM3Trans        fAlpha         fDist  \n",
            "count  13376.000000  13376.000000  13376.000000  13376.000000  13376.000000  \n",
            "mean       0.436070      0.595252      0.534507      0.348940      0.392091  \n",
            "std        0.063512      0.099014      0.060326      0.299274      0.154639  \n",
            "min        0.000000      0.000000      0.000000      0.000000      0.000000  \n",
            "25%        0.419865      0.555918      0.505396      0.082089      0.284952  \n",
            "50%        0.446034      0.607435      0.534297      0.258960      0.389414  \n",
            "75%        0.466340      0.643114      0.562515      0.582707      0.488367  \n",
            "max        1.000000      1.000000      1.000000      1.000000      1.000000  \n"
          ]
        }
      ],
      "source": [
        "from sklearn.preprocessing import MinMaxScaler\n",
        "\n",
        "\n",
        "df_scaled = df.copy()\n",
        "\n",
        "new_idx = [t[1] for t in df_scaled.index]\n",
        "df_scaled = df_scaled.set_index(pd.Series(new_idx))\n",
        "all_y = df_scaled.pop(\"classified\")\n",
        "\n",
        "scaler = MinMaxScaler()\n",
        "df_scaled = pd.DataFrame(scaler.fit_transform(df_scaled,all_y) )\n",
        "df_scaled.columns = df.columns.delete(-1)\n",
        "df_scaled.insert(len(df_scaled.columns),\"classified\",all_y.values)\n",
        "\n",
        "print(df_scaled.describe())"
      ]
    },
    {
      "cell_type": "code",
      "execution_count": null,
      "id": "7f335ced",
      "metadata": {
        "id": "7f335ced",
        "outputId": "b0cca95a-0742-4fc9-e42f-376efebc0620"
      },
      "outputs": [
        {
          "name": "stdout",
          "output_type": "stream",
          "text": [
            "train samples = 9363 \n",
            "test samples = 4013 \n",
            "total = 13376\n"
          ]
        }
      ],
      "source": [
        "test_scaled = df_scaled.sample(frac=0.3)\n",
        "train_scaled = df_scaled.copy().drop(test_scaled.index)\n",
        "\n",
        "print('train samples =', train_scaled.shape[0],\n",
        "      '\\ntest samples =', test_scaled.shape[0],\n",
        "      '\\ntotal =', train_scaled.shape[0] + test_scaled.shape[0])\n",
        "\n",
        "x_test_scaled = test_scaled.copy()\n",
        "y_test_scaled = x_test_scaled.pop(\"classified\")\n",
        "\n",
        "\n",
        "x_train_scaled = train_scaled.copy()\n",
        "y_train_scaled = x_train_scaled.pop(\"classified\")"
      ]
    },
    {
      "cell_type": "code",
      "execution_count": null,
      "id": "fa9fe932",
      "metadata": {
        "id": "fa9fe932",
        "outputId": "f83ca6eb-f84d-4251-c5d7-112fde2b3c62"
      },
      "outputs": [
        {
          "name": "stdout",
          "output_type": "stream",
          "text": [
            "Accuracy = 0.6449040617991527\n",
            "Precision = 0.5975447909754479\n",
            "Recall = 0.8946845504222554\n",
            "F1 = 0.7165307340362045\n"
          ]
        },
        {
          "data": {
            "image/png": "[encoded data removed]",
            "text/plain": [
              "<Figure size 432x288 with 2 Axes>"
            ]
          },
          "metadata": {
            "needs_background": "light"
          },
          "output_type": "display_data"
        }
      ],
      "source": [
        "# NAive bayes with scaled data\n",
        "# no of samples = 13376 samples\n",
        "\n",
        "naive_bayes_scaled = GaussianNB()\n",
        "naive_bayes_scaled.fit(x_train_scaled,y_train_scaled)    \n",
        "\n",
        "# TODO: execute only after tuning n_neighbours\n",
        "\n",
        "y_pred_nb_scaled = naive_bayes_scaled.predict(x_test_scaled)\n",
        "disp_scores(y_test_scaled,y_pred_nb_scaled)"
      ]
    }
  ],
  "metadata": {
    "interpreter": {
      "hash": "81794d4967e6c3204c66dcd87b604927b115b27c00565d3d43f05ba2f3a2cb0d"
    },
    "kernelspec": {
      "display_name": "Python 3.9.6 64-bit",
      "language": "python",
      "name": "python3"
    },
    "language_info": {
      "codemirror_mode": {
        "name": "ipython",
        "version": 3
      },
      "file_extension": ".py",
      "mimetype": "text/x-python",
      "name": "python",
      "nbconvert_exporter": "python",
      "pygments_lexer": "ipython3",
      "version": "3.9.6"
    },
    "colab": {
      "name": "classification.ipynb",
      "provenance": []
    }
  },
  "nbformat": 4,
  "nbformat_minor": 5
}